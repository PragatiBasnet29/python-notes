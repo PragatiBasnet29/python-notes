{
  "nbformat": 4,
  "nbformat_minor": 0,
  "metadata": {
    "colab": {
      "provenance": [],
      "authorship_tag": "ABX9TyMvVFw3o0JNVpPXzkzm7m6E",
      "include_colab_link": true
    },
    "kernelspec": {
      "name": "python3",
      "display_name": "Python 3"
    },
    "language_info": {
      "name": "python"
    }
  },
  "cells": [
    {
      "cell_type": "markdown",
      "metadata": {
        "id": "view-in-github",
        "colab_type": "text"
      },
      "source": [
        "<a href=\"https://colab.research.google.com/github/Hatsuhinode/Python/blob/main/basicPython2.ipynb\" target=\"_parent\"><img src=\"https://colab.research.google.com/assets/colab-badge.svg\" alt=\"Open In Colab\"/></a>"
      ]
    },
    {
      "cell_type": "markdown",
      "source": [
        "#### Formatted string literals (also called f-strings for short)\n"
      ],
      "metadata": {
        "id": "zDlid2UvZIN5"
      }
    },
    {
      "cell_type": "code",
      "source": [
        "import datetime"
      ],
      "metadata": {
        "id": "ECs7lB3LZLMw"
      },
      "execution_count": null,
      "outputs": []
    },
    {
      "cell_type": "markdown",
      "source": [
        "The strftime(\"%A\") function is used to format a date or time into string that represents the day of the week.\n",
        "\n",
        " %A is a directive used within 'strftime()' function to represent the full name of the day of the week.\n",
        "\n",
        " A directive refers to string pattern on how to interpret and display certain data."
      ],
      "metadata": {
        "id": "pc9wLfb5ZSuy"
      }
    },
    {
      "cell_type": "code",
      "execution_count": null,
      "metadata": {
        "colab": {
          "base_uri": "https://localhost:8080/"
        },
        "id": "-NRQfQQuY6kO",
        "outputId": "71c07261-42e0-4795-a992-bdd01ad5a9e6"
      },
      "outputs": [
        {
          "output_type": "stream",
          "name": "stdout",
          "text": [
            "Current date and time:\n",
            "2023-12-28 07:57:11.609273\n"
          ]
        }
      ],
      "source": [
        "dateAndTime = datetime.datetime.now()\n",
        "print('Current date and time:')\n",
        "print(dateAndTime)"
      ]
    },
    {
      "cell_type": "code",
      "source": [
        "year = dateAndTime.year\n",
        "day = dateAndTime.strftime(\"%A\")"
      ],
      "metadata": {
        "id": "njchQg60bKVj"
      },
      "execution_count": null,
      "outputs": []
    },
    {
      "cell_type": "code",
      "source": [
        "print(f'Year : {year}\\nDay : {day}')"
      ],
      "metadata": {
        "colab": {
          "base_uri": "https://localhost:8080/"
        },
        "id": "yGM8fYpebAFE",
        "outputId": "c51e067a-bf3c-4c37-cccb-ae5e0c543ac0"
      },
      "execution_count": null,
      "outputs": [
        {
          "output_type": "stream",
          "name": "stdout",
          "text": [
            "Year : 2023\n",
            "Day : Thursday\n"
          ]
        }
      ]
    },
    {
      "cell_type": "code",
      "source": [
        "month = dateAndTime.strftime(\"%B\")\n",
        "print('Month :',month)"
      ],
      "metadata": {
        "colab": {
          "base_uri": "https://localhost:8080/"
        },
        "id": "hjNgY0S_a_-B",
        "outputId": "ed4cf519-8d6b-484b-a24c-cb8294e45ad2"
      },
      "execution_count": null,
      "outputs": [
        {
          "output_type": "stream",
          "name": "stdout",
          "text": [
            "Month : December\n"
          ]
        }
      ]
    },
    {
      "cell_type": "code",
      "source": [
        "Year = dateAndTime.strftime(\"%Y\")\n",
        "print('Year :',Year)"
      ],
      "metadata": {
        "colab": {
          "base_uri": "https://localhost:8080/"
        },
        "id": "gWo4JWu3a_4V",
        "outputId": "e7e26a0b-4ad9-499f-c4ba-081fab90269b"
      },
      "execution_count": null,
      "outputs": [
        {
          "output_type": "stream",
          "name": "stdout",
          "text": [
            "Year : 2023\n"
          ]
        }
      ]
    },
    {
      "cell_type": "code",
      "source": [
        "hour = dateAndTime.strftime(\"%H\")\n",
        "print('Hour :',hour)"
      ],
      "metadata": {
        "colab": {
          "base_uri": "https://localhost:8080/"
        },
        "id": "EJ2BjYD_a_zY",
        "outputId": "7342ae37-18b4-45ad-ffbf-eee0e6a4f322"
      },
      "execution_count": null,
      "outputs": [
        {
          "output_type": "stream",
          "name": "stdout",
          "text": [
            "Hour : 07\n"
          ]
        }
      ]
    },
    {
      "cell_type": "code",
      "source": [
        "minute = dateAndTime.strftime(\"%M\")\n",
        "print('Minute :',minute)"
      ],
      "metadata": {
        "colab": {
          "base_uri": "https://localhost:8080/"
        },
        "id": "e5zv7TSAa_us",
        "outputId": "9925d097-36dd-4460-9612-f8706ad65841"
      },
      "execution_count": null,
      "outputs": [
        {
          "output_type": "stream",
          "name": "stdout",
          "text": [
            "Minute : 57\n"
          ]
        }
      ]
    },
    {
      "cell_type": "markdown",
      "source": [
        "#### Checking datatype"
      ],
      "metadata": {
        "id": "e5BhEnlIa64q"
      }
    },
    {
      "cell_type": "code",
      "source": [
        "varInt = 10\n",
        "varFloat = 3.14\n",
        "varString = \"String data\"\n",
        "varList = [100,200,300]\n",
        "varDict = {'intValue': 1, 'floatNumber': 1.1}\n",
        "varBool = True\n",
        "varTuple = (1,2,3,'Start')"
      ],
      "metadata": {
        "id": "J8aJeassZ-FV"
      },
      "execution_count": null,
      "outputs": []
    },
    {
      "cell_type": "code",
      "source": [
        "print (F'The datatype of varInt variable is {type(varInt)}')"
      ],
      "metadata": {
        "colab": {
          "base_uri": "https://localhost:8080/"
        },
        "id": "KsOZXy2NayWw",
        "outputId": "c9e75125-0f41-4223-f289-61bd7954bd98"
      },
      "execution_count": null,
      "outputs": [
        {
          "output_type": "stream",
          "name": "stdout",
          "text": [
            "The datatype of varInt variable is <class 'int'>\n"
          ]
        }
      ]
    },
    {
      "cell_type": "code",
      "source": [
        "print (f'The datatype of varFloat variable is {type(varFloat)}')"
      ],
      "metadata": {
        "colab": {
          "base_uri": "https://localhost:8080/"
        },
        "id": "ok_hjSIZard3",
        "outputId": "e7bb4a0d-e4a8-46d5-8fbd-1563cb1321f9"
      },
      "execution_count": null,
      "outputs": [
        {
          "output_type": "stream",
          "name": "stdout",
          "text": [
            "The datatype of varFloat variable is <class 'float'>\n"
          ]
        }
      ]
    },
    {
      "cell_type": "code",
      "source": [
        "print (F'The datatype of varString variable is {type(varString)}')"
      ],
      "metadata": {
        "colab": {
          "base_uri": "https://localhost:8080/"
        },
        "id": "bgRC8sIRarXI",
        "outputId": "5b0eba1c-ab95-48fd-d529-3953accd15c2"
      },
      "execution_count": null,
      "outputs": [
        {
          "output_type": "stream",
          "name": "stdout",
          "text": [
            "The datatype of varString variable is <class 'str'>\n"
          ]
        }
      ]
    },
    {
      "cell_type": "code",
      "source": [
        "print (F'The datatype of varList variable is {type(varList)}')"
      ],
      "metadata": {
        "colab": {
          "base_uri": "https://localhost:8080/"
        },
        "id": "SQp1xm7uarPz",
        "outputId": "e3869000-fa3a-4433-c325-23f019239aac"
      },
      "execution_count": null,
      "outputs": [
        {
          "output_type": "stream",
          "name": "stdout",
          "text": [
            "The datatype of varList variable is <class 'list'>\n"
          ]
        }
      ]
    },
    {
      "cell_type": "code",
      "source": [
        "print (F'The datatype of varDict variable is {type(varDict)}')"
      ],
      "metadata": {
        "colab": {
          "base_uri": "https://localhost:8080/"
        },
        "id": "TH-3llg7arD3",
        "outputId": "2308119d-057a-412b-85f1-c215b291c282"
      },
      "execution_count": null,
      "outputs": [
        {
          "output_type": "stream",
          "name": "stdout",
          "text": [
            "The datatype of varDict variable is <class 'dict'>\n"
          ]
        }
      ]
    },
    {
      "cell_type": "code",
      "source": [
        "print (F'The datatype of varBool variable is {type(varBool)}')"
      ],
      "metadata": {
        "colab": {
          "base_uri": "https://localhost:8080/"
        },
        "id": "DgRea9Ogaq5r",
        "outputId": "26de9ba8-8726-419f-ea59-5d9c33f0ebe6"
      },
      "execution_count": null,
      "outputs": [
        {
          "output_type": "stream",
          "name": "stdout",
          "text": [
            "The datatype of varBool variable is <class 'bool'>\n"
          ]
        }
      ]
    },
    {
      "cell_type": "code",
      "source": [
        "print (F'The datatype of varBool variable is {type(varTuple)}')"
      ],
      "metadata": {
        "colab": {
          "base_uri": "https://localhost:8080/"
        },
        "id": "iQAO5ZLrap-2",
        "outputId": "58816be4-dc29-4851-ccce-44e64e0d0398"
      },
      "execution_count": null,
      "outputs": [
        {
          "output_type": "stream",
          "name": "stdout",
          "text": [
            "The datatype of varBool variable is <class 'tuple'>\n"
          ]
        }
      ]
    },
    {
      "cell_type": "code",
      "source": [
        "print(varTuple[0])"
      ],
      "metadata": {
        "colab": {
          "base_uri": "https://localhost:8080/"
        },
        "id": "DpP0i98Daf6U",
        "outputId": "58fa5c4f-aefd-4da6-c133-012dd509a7f7"
      },
      "execution_count": null,
      "outputs": [
        {
          "output_type": "stream",
          "name": "stdout",
          "text": [
            "1\n"
          ]
        }
      ]
    },
    {
      "cell_type": "code",
      "source": [
        "print(type(varTuple[1]))"
      ],
      "metadata": {
        "colab": {
          "base_uri": "https://localhost:8080/"
        },
        "id": "QAGcnQBLaf1Y",
        "outputId": "a2553ec8-2cf4-4acd-d387-89dad3f64c3b"
      },
      "execution_count": null,
      "outputs": [
        {
          "output_type": "stream",
          "name": "stdout",
          "text": [
            "<class 'int'>\n"
          ]
        }
      ]
    },
    {
      "cell_type": "code",
      "source": [
        "print(varTuple[2])"
      ],
      "metadata": {
        "colab": {
          "base_uri": "https://localhost:8080/"
        },
        "id": "RQzraJpNafyP",
        "outputId": "d056ccf7-546a-4ba7-81db-0262a40e7d9d"
      },
      "execution_count": null,
      "outputs": [
        {
          "output_type": "stream",
          "name": "stdout",
          "text": [
            "3\n"
          ]
        }
      ]
    },
    {
      "cell_type": "code",
      "source": [
        "print(type(varTuple[3]))"
      ],
      "metadata": {
        "colab": {
          "base_uri": "https://localhost:8080/"
        },
        "id": "u3W6mEP1afvI",
        "outputId": "1f6266bf-9bba-4b92-99d3-7db5b2317066"
      },
      "execution_count": null,
      "outputs": [
        {
          "output_type": "stream",
          "name": "stdout",
          "text": [
            "<class 'str'>\n"
          ]
        }
      ]
    },
    {
      "cell_type": "code",
      "source": [
        "print(varTuple[0:2])"
      ],
      "metadata": {
        "colab": {
          "base_uri": "https://localhost:8080/"
        },
        "id": "xTIy5ISSaa3-",
        "outputId": "e48b5a39-c924-4187-b5f8-18a6146e9b51"
      },
      "execution_count": null,
      "outputs": [
        {
          "output_type": "stream",
          "name": "stdout",
          "text": [
            "(1, 2)\n"
          ]
        }
      ]
    },
    {
      "cell_type": "code",
      "source": [
        "print(varList[0])"
      ],
      "metadata": {
        "colab": {
          "base_uri": "https://localhost:8080/"
        },
        "id": "PdKfg9izaax-",
        "outputId": "0f373957-280f-4711-f584-8c10c933e177"
      },
      "execution_count": null,
      "outputs": [
        {
          "output_type": "stream",
          "name": "stdout",
          "text": [
            "100\n"
          ]
        }
      ]
    },
    {
      "cell_type": "code",
      "source": [
        "print(type(varList[1]))"
      ],
      "metadata": {
        "colab": {
          "base_uri": "https://localhost:8080/"
        },
        "id": "Kh9kcKPVaatD",
        "outputId": "aa61aea2-40fc-481a-c90d-bf6b04dce6ce"
      },
      "execution_count": null,
      "outputs": [
        {
          "output_type": "stream",
          "name": "stdout",
          "text": [
            "<class 'int'>\n"
          ]
        }
      ]
    },
    {
      "cell_type": "code",
      "source": [
        "print(varList[2])"
      ],
      "metadata": {
        "colab": {
          "base_uri": "https://localhost:8080/"
        },
        "id": "LmTChvUwaaoF",
        "outputId": "e0e5cbef-d7b0-4f8f-ee96-fe14818d2997"
      },
      "execution_count": null,
      "outputs": [
        {
          "output_type": "stream",
          "name": "stdout",
          "text": [
            "300\n"
          ]
        }
      ]
    },
    {
      "cell_type": "code",
      "source": [
        "print(varList[0:])"
      ],
      "metadata": {
        "colab": {
          "base_uri": "https://localhost:8080/"
        },
        "id": "otDd5HUQaYBr",
        "outputId": "cac1d803-164b-4310-ffca-4debeb706a7f"
      },
      "execution_count": null,
      "outputs": [
        {
          "output_type": "stream",
          "name": "stdout",
          "text": [
            "[100, 200, 300]\n"
          ]
        }
      ]
    },
    {
      "cell_type": "code",
      "source": [
        "print (F'The datatype of year is {type(year)}')\n",
        "print (F'The datatype of Year is {type(Year)}')"
      ],
      "metadata": {
        "colab": {
          "base_uri": "https://localhost:8080/"
        },
        "id": "wZ2CydONaUpz",
        "outputId": "99d57e24-cf0c-4006-ed0b-6152c422a38d"
      },
      "execution_count": null,
      "outputs": [
        {
          "output_type": "stream",
          "name": "stdout",
          "text": [
            "The datatype of year is <class 'int'>\n",
            "The datatype of Year is <class 'str'>\n"
          ]
        }
      ]
    },
    {
      "cell_type": "markdown",
      "source": [
        "#### Creating table"
      ],
      "metadata": {
        "id": "QK4lPhrtZ1f6"
      }
    },
    {
      "cell_type": "code",
      "source": [
        "table = {'Year': year, 'Hour': int(hour), 'Minute': int(minute)}\n",
        "print (F'The datatype of table variable is {type(table)}')"
      ],
      "metadata": {
        "colab": {
          "base_uri": "https://localhost:8080/"
        },
        "id": "C5HOVAbvZtaf",
        "outputId": "f8cb0c68-7374-45d3-d169-f4e0a02021d0"
      },
      "execution_count": null,
      "outputs": [
        {
          "output_type": "stream",
          "name": "stdout",
          "text": [
            "The datatype of table variable is <class 'dict'>\n"
          ]
        }
      ]
    },
    {
      "cell_type": "code",
      "source": [
        "print ('The datatype of table.items() is {}'.format(type(table.items())))"
      ],
      "metadata": {
        "colab": {
          "base_uri": "https://localhost:8080/"
        },
        "id": "UsNtSRyCaMtg",
        "outputId": "cc0190e8-88b1-42d6-910a-15e450e2d8c8"
      },
      "execution_count": null,
      "outputs": [
        {
          "output_type": "stream",
          "name": "stdout",
          "text": [
            "The datatype of table.items() is <class 'dict_items'>\n"
          ]
        }
      ]
    },
    {
      "cell_type": "code",
      "source": [
        "for interval,value in table.items():\n",
        "    print(f'{interval:10}-{value:10d}')     # Passing an integer after ':' will cause that field to be minimum number of characters wide.\n"
      ],
      "metadata": {
        "colab": {
          "base_uri": "https://localhost:8080/"
        },
        "id": "vA3yst5WaPut",
        "outputId": "3bde8c6f-ec2e-439c-b5f5-f50fd93acc11"
      },
      "execution_count": null,
      "outputs": [
        {
          "output_type": "stream",
          "name": "stdout",
          "text": [
            "Year      -      2023\n",
            "Hour      -         7\n",
            "Minute    -        57\n"
          ]
        }
      ]
    },
    {
      "cell_type": "markdown",
      "source": [
        "#### Output Formatting"
      ],
      "metadata": {
        "id": "qgKCX5o_ZpPb"
      }
    },
    {
      "cell_type": "code",
      "source": [
        "a = 'Python';  b = 'programming'\n",
        "print('{} is incredibly versatile {} language.'.format(a,b))"
      ],
      "metadata": {
        "colab": {
          "base_uri": "https://localhost:8080/"
        },
        "id": "4ycY-OmOZl01",
        "outputId": "a66a5af8-fbdf-4564-c86a-d5b18e573808"
      },
      "execution_count": null,
      "outputs": [
        {
          "output_type": "stream",
          "name": "stdout",
          "text": [
            "Python is incredibly versatile programming language.\n"
          ]
        }
      ]
    },
    {
      "cell_type": "code",
      "source": [
        "print('We will be {1} in {0}.'.format(a,b))\n"
      ],
      "metadata": {
        "colab": {
          "base_uri": "https://localhost:8080/"
        },
        "id": "nI_tPfUPaDvD",
        "outputId": "4ad75562-e4cc-4fc9-8ef7-d5e66d3dcb4a"
      },
      "execution_count": null,
      "outputs": [
        {
          "output_type": "stream",
          "name": "stdout",
          "text": [
            "We will be programming in Python.\n"
          ]
        }
      ]
    },
    {
      "cell_type": "code",
      "source": [
        "print('We will be {place1} machine learning {place2}.'.format(place1 = 'learning',place2 = 'concepts'))\n"
      ],
      "metadata": {
        "colab": {
          "base_uri": "https://localhost:8080/"
        },
        "id": "WXkIPFXGaDnv",
        "outputId": "25f8b0bc-8429-4a2d-a864-ac9377a91ff6"
      },
      "execution_count": null,
      "outputs": [
        {
          "output_type": "stream",
          "name": "stdout",
          "text": [
            "We will be learning machine learning concepts.\n"
          ]
        }
      ]
    },
    {
      "cell_type": "code",
      "source": [
        "message = input('Enter a departing message\\t')\n",
        "print('Eveyone please be seated.',message)\n"
      ],
      "metadata": {
        "colab": {
          "base_uri": "https://localhost:8080/"
        },
        "id": "TmcnQ4qCaDhA",
        "outputId": "c8ea2f4c-32f5-4359-a157-282c0d97776e"
      },
      "execution_count": null,
      "outputs": [
        {
          "output_type": "stream",
          "name": "stdout",
          "text": [
            "Enter a departing message\tThank you for being present.\n",
            "Eveyone please be seated. Thank you for being present.\n"
          ]
        }
      ]
    }
  ]
}