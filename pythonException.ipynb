{
  "nbformat": 4,
  "nbformat_minor": 0,
  "metadata": {
    "colab": {
      "provenance": [],
      "authorship_tag": "ABX9TyMctc2iQwYRjFaodIKyXpyN",
      "include_colab_link": true
    },
    "kernelspec": {
      "name": "python3",
      "display_name": "Python 3"
    },
    "language_info": {
      "name": "python"
    }
  },
  "cells": [
    {
      "cell_type": "markdown",
      "metadata": {
        "id": "view-in-github",
        "colab_type": "text"
      },
      "source": [
        "<a href=\"https://colab.research.google.com/github/Hatsuhinode/Python/blob/main/pythonException.ipynb\" target=\"_parent\"><img src=\"https://colab.research.google.com/assets/colab-badge.svg\" alt=\"Open In Colab\"/></a>"
      ]
    },
    {
      "cell_type": "markdown",
      "source": [
        "# Exception handling"
      ],
      "metadata": {
        "id": "zZnIgGtirHh7"
      }
    },
    {
      "cell_type": "markdown",
      "source": [
        "##### Exceptions are raised when a program is syntactically correct, but the code results in an error.\n"
      ],
      "metadata": {
        "id": "M4MQmWVMrLJJ"
      }
    },
    {
      "cell_type": "markdown",
      "source": [
        "##### Exception is the base class for all the exceptions in Python.\n"
      ],
      "metadata": {
        "id": "s-hwWauRrOnA"
      }
    },
    {
      "cell_type": "markdown",
      "source": [
        "### Handling TypeError\n"
      ],
      "metadata": {
        "id": "iGUVmS8HrWR3"
      }
    },
    {
      "cell_type": "markdown",
      "source": [
        "##### TypeError :This exception is raised when an operation is applied to an object of the wrong type.\n"
      ],
      "metadata": {
        "id": "U1EMfvZnrXqa"
      }
    },
    {
      "cell_type": "code",
      "source": [
        "var1 = 30\n",
        "var2 = 'Sadhaharu'"
      ],
      "metadata": {
        "id": "p1bQsjU_rg13"
      },
      "execution_count": null,
      "outputs": []
    },
    {
      "cell_type": "code",
      "source": [
        "try :\n",
        "    sum = var1 + var2\n",
        "    print(f'The sum of {var1} and {var2} is {sum}')\n",
        "    # Instead of using print statement inside try block we can use else statement as used in the following code cell.\n",
        "\n",
        "except TypeError:\n",
        "    # except: only can be used for catching an exception.\n",
        "    print('Type error has occured.')\n",
        "\n",
        "print('TypeError checking is completed.')\n",
        "# Instead of using print statement here we can put the code that are always executed in finally block as used in following code cell."
      ],
      "metadata": {
        "colab": {
          "base_uri": "https://localhost:8080/"
        },
        "id": "GE79EYX8rf8d",
        "outputId": "995c62bf-b729-438d-b086-f1a46a08ed1e"
      },
      "execution_count": null,
      "outputs": [
        {
          "output_type": "stream",
          "name": "stdout",
          "text": [
            "Type error has occured.\n",
            "TypeError checking is completed.\n"
          ]
        }
      ]
    },
    {
      "cell_type": "code",
      "source": [
        "try :\n",
        "    sum = var1 + var2\n",
        "\n",
        "except TypeError :\n",
        "    print('Type error has occured.')\n",
        "\n",
        "else :\n",
        "    print(f'The sum of {var1} and {var2} is {sum}')\n",
        "\n",
        "print('TypeError checking is completed.')"
      ],
      "metadata": {
        "colab": {
          "base_uri": "https://localhost:8080/"
        },
        "id": "Ao6mZD89uz5R",
        "outputId": "1ba634a6-246e-45c2-bd59-e59650822d2f"
      },
      "execution_count": null,
      "outputs": [
        {
          "output_type": "stream",
          "name": "stdout",
          "text": [
            "Type error has occured.\n",
            "TypeError checking is completed.\n"
          ]
        }
      ]
    },
    {
      "cell_type": "code",
      "source": [
        "try :\n",
        "    sum = var1 + var2\n",
        "\n",
        "except TypeError :\n",
        "    print('Type error has occured.')\n",
        "\n",
        "finally:\n",
        "    print('Error has been checked.\\n')"
      ],
      "metadata": {
        "colab": {
          "base_uri": "https://localhost:8080/"
        },
        "id": "VDPdEbqcut3k",
        "outputId": "db236ca1-a442-4f6a-d775-333694a8c2ff"
      },
      "execution_count": null,
      "outputs": [
        {
          "output_type": "stream",
          "name": "stdout",
          "text": [
            "Type error has occured.\n",
            "Error has been checked.\n",
            "\n"
          ]
        }
      ]
    },
    {
      "cell_type": "code",
      "source": [
        "try :\n",
        "    sum = var1 + var2\n",
        "\n",
        "except TypeError :\n",
        "    print('Type error has occured.')\n",
        "\n",
        "else :\n",
        "    print(f'The sum of {var1} and {var2} is {sum}')\n",
        "\n",
        "finally:\n",
        "    print('Error has been checked.\\n')"
      ],
      "metadata": {
        "colab": {
          "base_uri": "https://localhost:8080/"
        },
        "id": "GsCYjVjuuRU3",
        "outputId": "1249aa4d-27d5-44ad-f3bf-15e57d38f63d"
      },
      "execution_count": null,
      "outputs": [
        {
          "output_type": "stream",
          "name": "stdout",
          "text": [
            "Type error has occured.\n",
            "Error has been checked.\n",
            "\n"
          ]
        }
      ]
    },
    {
      "cell_type": "markdown",
      "source": [
        "### Multiple exceptions\n"
      ],
      "metadata": {
        "id": "Q6EPHyVPslwt"
      }
    },
    {
      "cell_type": "code",
      "source": [
        "def divide(num1, num2):\n",
        "    div = num1 / num2\n",
        "    print(f'The value of division of {num1} and {num2} is {div}.')"
      ],
      "metadata": {
        "id": "psRSLskysoMB"
      },
      "execution_count": null,
      "outputs": []
    },
    {
      "cell_type": "code",
      "source": [
        "try :\n",
        "    divide(15, 5)\n",
        "#    divide(10,0)\n",
        "#    divide(10,2,1)\n",
        "#    divid(2,3)\n",
        "\n",
        "except ZeroDivisionError:\n",
        "    print('Division cannot be executed due to ZeroDivisionError.')\n",
        "\n",
        "except TypeError:\n",
        "    print('Division cannot be executed due to TypeError.')\n",
        "\n",
        "except NameError:\n",
        "    print('Division cannot be executed due to NameError.')\n",
        "\n",
        "print('The error check has been completed.')"
      ],
      "metadata": {
        "colab": {
          "base_uri": "https://localhost:8080/"
        },
        "id": "dMu0Zwvdsqck",
        "outputId": "3e4e26e4-f6a0-4661-d126-35279d5dc1e7"
      },
      "execution_count": null,
      "outputs": [
        {
          "output_type": "stream",
          "name": "stdout",
          "text": [
            "The value of division of 15 and 5 is 3.0.\n",
            "The error check has been completed.\n"
          ]
        }
      ]
    },
    {
      "cell_type": "markdown",
      "source": [
        "### Raising exception\n"
      ],
      "metadata": {
        "id": "IqnBivFRs6gY"
      }
    },
    {
      "cell_type": "markdown",
      "source": [
        "##### The raise statement allows us to force a specific exception to occur.\n"
      ],
      "metadata": {
        "id": "OpLZ_He1s83Z"
      }
    },
    {
      "cell_type": "code",
      "execution_count": null,
      "metadata": {
        "colab": {
          "base_uri": "https://localhost:8080/"
        },
        "id": "5VsupbFgq2Zr",
        "outputId": "a8fdc888-db0d-4f82-a382-124ce7cc8e20"
      },
      "outputs": [
        {
          "output_type": "stream",
          "name": "stdout",
          "text": [
            "\n",
            "RAISING EXCEPTION\n",
            "ValueError has occured.\n"
          ]
        }
      ],
      "source": [
        "print('\\nRAISING EXCEPTION')\n",
        "\n",
        "try :\n",
        "    raise ValueError('ERROR OCCURED')\n",
        "except ValueError :\n",
        "    print('ValueError has occured.')"
      ]
    },
    {
      "cell_type": "code",
      "source": [
        "print('\\nRAISING EXCEPTION')\n",
        "\n",
        "try :\n",
        "    raise ValueError('ERROR OCCURED')\n",
        "except ValueError :\n",
        "    print('ValueError has occured.')\n",
        "    raise"
      ],
      "metadata": {
        "id": "2-oTyDXotDwx"
      },
      "execution_count": null,
      "outputs": []
    },
    {
      "cell_type": "markdown",
      "source": [
        "##### This raise statement re-raises the same exception without specifying an exception.\n"
      ],
      "metadata": {
        "id": "M-OtfvvJtHyE"
      }
    },
    {
      "cell_type": "markdown",
      "source": [
        "##### When an exception is not handled further up in the code, the python interpreter displays the traceback information indicating specific type of exception and where it occured in the code."
      ],
      "metadata": {
        "id": "_khvr7ngtJP0"
      }
    }
  ]
}