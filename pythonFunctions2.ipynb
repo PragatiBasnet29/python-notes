{
  "nbformat": 4,
  "nbformat_minor": 0,
  "metadata": {
    "colab": {
      "provenance": [],
      "authorship_tag": "ABX9TyMlHC3JonBIsholqmLzQFYb",
      "include_colab_link": true
    },
    "kernelspec": {
      "name": "python3",
      "display_name": "Python 3"
    },
    "language_info": {
      "name": "python"
    }
  },
  "cells": [
    {
      "cell_type": "markdown",
      "metadata": {
        "id": "view-in-github",
        "colab_type": "text"
      },
      "source": [
        "<a href=\"https://colab.research.google.com/github/Hatsuhinode/Python/blob/main/pythonFunctions2.ipynb\" target=\"_parent\"><img src=\"https://colab.research.google.com/assets/colab-badge.svg\" alt=\"Open In Colab\"/></a>"
      ]
    },
    {
      "cell_type": "markdown",
      "source": [
        "# EVERYTHING IN PYTHON IS AN OBJECT, EVEN FUNCTIONS."
      ],
      "metadata": {
        "id": "G_PLvCWZkawM"
      }
    },
    {
      "cell_type": "markdown",
      "source": [
        "# Nested Functions and closures\n"
      ],
      "metadata": {
        "id": "_fRr6ENCkiMe"
      }
    },
    {
      "cell_type": "markdown",
      "source": [
        "##### A function defined inside another function is called a nested function. Nested function can access variables of the enclosing scope.\n"
      ],
      "metadata": {
        "id": "CsV0SAlxkoYU"
      }
    },
    {
      "cell_type": "code",
      "source": [
        "def outerFunction1(msg):\n",
        "    print('This is outer function.')\n",
        "    print (msg+'This message is displayed from \"outerFunction1()\".')\n",
        "\n",
        "    def innerFunction1():\n",
        "        print('This is inner function.')\n",
        "        print (msg+'This message is displayed from \"innerFunction1()\".')\n",
        "        # Nested function accessing a non-local variable 'msg'.\n",
        "    innerFunction1()"
      ],
      "metadata": {
        "id": "FPv6Jh1pkaI4"
      },
      "execution_count": null,
      "outputs": []
    },
    {
      "cell_type": "code",
      "source": [
        "outerFunction1('This is my message to you.')"
      ],
      "metadata": {
        "id": "ytRxwGIIkwAL",
        "colab": {
          "base_uri": "https://localhost:8080/"
        },
        "outputId": "4b93b174-709d-4a21-fbdc-1ea94182851c"
      },
      "execution_count": null,
      "outputs": [
        {
          "output_type": "stream",
          "name": "stdout",
          "text": [
            "This is outer function.\n",
            "This is my message to you.This message is displayed from \"outerFunction1()\".\n",
            "This is inner function.\n",
            "This is my message to you.This message is displayed from \"innerFunction1()\".\n"
          ]
        }
      ]
    },
    {
      "cell_type": "markdown",
      "source": [
        "#### Returing a function\n"
      ],
      "metadata": {
        "id": "FrwQlxv7lX-d"
      }
    },
    {
      "cell_type": "code",
      "source": [
        "def outerFunction2(msg):\n",
        "    print('This is outer function.')\n",
        "    print (msg+'This message is displayed from \"outerFunction2()\".')\n",
        "\n",
        "    def innerFunction2():\n",
        "        print('This is inner function.')\n",
        "        print (msg+'This message is displayed from \"innerFunction2()\".')\n",
        "\n",
        "    return innerFunction2"
      ],
      "metadata": {
        "id": "jjRXw-LLlXai"
      },
      "execution_count": null,
      "outputs": []
    },
    {
      "cell_type": "code",
      "source": [
        "innerFunctionReturn = outerFunction2('This is my message to you.')"
      ],
      "metadata": {
        "id": "k0VLxW0Ylciq",
        "colab": {
          "base_uri": "https://localhost:8080/"
        },
        "outputId": "4aea37c9-fef6-4c85-f550-685a726b4fdc"
      },
      "execution_count": null,
      "outputs": [
        {
          "output_type": "stream",
          "name": "stdout",
          "text": [
            "This is outer function.\n",
            "This is my message to you.This message is displayed from \"outerFunction2()\".\n"
          ]
        }
      ]
    },
    {
      "cell_type": "code",
      "source": [
        "innerFunctionReturn"
      ],
      "metadata": {
        "colab": {
          "base_uri": "https://localhost:8080/"
        },
        "id": "R0b6bOMiv10a",
        "outputId": "ff144357-35be-4de9-a682-8cb81b498f6f"
      },
      "execution_count": null,
      "outputs": [
        {
          "output_type": "execute_result",
          "data": {
            "text/plain": [
              "<function __main__.outerFunction2.<locals>.innerFunction2()>"
            ]
          },
          "metadata": {},
          "execution_count": 12
        }
      ]
    },
    {
      "cell_type": "code",
      "source": [
        "print('The innerFunction2 has been returned into innerFunctionReturn.')\n",
        "innerFunctionReturn()"
      ],
      "metadata": {
        "id": "20Ytku1uleOv",
        "colab": {
          "base_uri": "https://localhost:8080/"
        },
        "outputId": "7ba075d7-a70f-490f-bf37-6fb496570e69"
      },
      "execution_count": null,
      "outputs": [
        {
          "output_type": "stream",
          "name": "stdout",
          "text": [
            "The innerFunction2 has been returned into innerFunctionReturn.\n",
            "This is inner function.\n",
            "This is my message to you.This message is displayed from \"innerFunction2()\".\n"
          ]
        }
      ]
    },
    {
      "cell_type": "markdown",
      "source": [
        "##### This technique by which some data ('This is my message to you.') gets attached to the code is called closure in Python.\n"
      ],
      "metadata": {
        "id": "HM2iPmMNlmh9"
      }
    },
    {
      "cell_type": "markdown",
      "source": [
        "##### Deleting the outer object won't effect.This way we can return the whole functionality of nested function and bind it to a variable to use it further.\n"
      ],
      "metadata": {
        "id": "tU3-wicelyxP"
      }
    },
    {
      "cell_type": "markdown",
      "source": [
        "##### A closure is a nested function that captures and remembers the values from the enclosing (outer) scope, even after the outer function has finished executing."
      ],
      "metadata": {
        "id": "3onJArV4Nisy"
      }
    },
    {
      "cell_type": "markdown",
      "source": [
        "##### This method of binding data to a function without actually passing them as parameters is called closure.\n"
      ],
      "metadata": {
        "id": "I3gQ-DyBl1T-"
      }
    },
    {
      "cell_type": "code",
      "source": [
        "del outerFunction2\n",
        "# outerFunction2('This is my next message to you.')     # A closure is a function scope that remembers values in enclosing scope even if they are not present in memory.\n"
      ],
      "metadata": {
        "id": "eGwx8s5Dl4jY"
      },
      "execution_count": null,
      "outputs": []
    },
    {
      "cell_type": "code",
      "source": [
        "outerFunction2('This is my next message to you.')"
      ],
      "metadata": {
        "colab": {
          "base_uri": "https://localhost:8080/",
          "height": 179
        },
        "id": "gQl7PMb0JPCf",
        "outputId": "b8ae8a5f-f7c9-4b87-ea3d-62ac067f63f3"
      },
      "execution_count": null,
      "outputs": [
        {
          "output_type": "error",
          "ename": "NameError",
          "evalue": "ignored",
          "traceback": [
            "\u001b[0;31m---------------------------------------------------------------------------\u001b[0m",
            "\u001b[0;31mNameError\u001b[0m                                 Traceback (most recent call last)",
            "\u001b[0;32m<ipython-input-16-5f602d0497e6>\u001b[0m in \u001b[0;36m<cell line: 1>\u001b[0;34m()\u001b[0m\n\u001b[0;32m----> 1\u001b[0;31m \u001b[0mouterFunction2\u001b[0m\u001b[0;34m(\u001b[0m\u001b[0;34m'This is my next message to you.'\u001b[0m\u001b[0;34m)\u001b[0m\u001b[0;34m\u001b[0m\u001b[0;34m\u001b[0m\u001b[0m\n\u001b[0m",
            "\u001b[0;31mNameError\u001b[0m: name 'outerFunction2' is not defined"
          ]
        }
      ]
    },
    {
      "cell_type": "code",
      "source": [
        "print('The function \"outerFuntion2\" has been deleted.')\n",
        "print('\"innerFunctionReturn()\" has been invoked.')\n",
        "innerFunctionReturn()"
      ],
      "metadata": {
        "id": "cOP2MKgRMlOo",
        "colab": {
          "base_uri": "https://localhost:8080/"
        },
        "outputId": "2874336f-d165-4031-a622-46cc396e16a1"
      },
      "execution_count": null,
      "outputs": [
        {
          "output_type": "stream",
          "name": "stdout",
          "text": [
            "The function \"outerFuntion2\" has been deleted.\n",
            "\"innerFunctionReturn()\" has been invoked.\n",
            "This is inner function.\n",
            "This is my message to you.This message is displayed from \"innerFunction2()\".\n"
          ]
        }
      ]
    },
    {
      "cell_type": "markdown",
      "source": [
        "##### Closures are preferred way to avoid global variables.\n",
        "\n",
        "\n",
        "\n",
        "\n"
      ],
      "metadata": {
        "id": "cszYKvpql_6V"
      }
    },
    {
      "cell_type": "markdown",
      "source": [
        "##### When there are few methods to be implemented in a class closure can provide an alternate and more elegant solution.\n"
      ],
      "metadata": {
        "id": "P-c_WCnImDmP"
      }
    },
    {
      "cell_type": "markdown",
      "source": [
        "##### When number of attributes and methods get larger, better implement class.\n"
      ],
      "metadata": {
        "id": "OuAFaoplmFYE"
      }
    },
    {
      "cell_type": "markdown",
      "source": [
        "##### Attributes in Python are variables associated with an object and are used to store data related to the object.\n"
      ],
      "metadata": {
        "id": "o9zT1JyNmHcW"
      }
    },
    {
      "cell_type": "code",
      "source": [
        "def multiplierOf(num1):\n",
        "    def multiply(num2):\n",
        "        return num1 * num2\n",
        "    return multiply"
      ],
      "metadata": {
        "id": "6Bo7tM2xmB_J"
      },
      "execution_count": null,
      "outputs": []
    },
    {
      "cell_type": "code",
      "source": [
        "multiplierOf5 = multiplierOf(5)"
      ],
      "metadata": {
        "id": "LXoN5o7UmJwx"
      },
      "execution_count": null,
      "outputs": []
    },
    {
      "cell_type": "code",
      "source": [
        "multiplierOf10 = multiplierOf(10)"
      ],
      "metadata": {
        "id": "55za-x_tmLgw"
      },
      "execution_count": null,
      "outputs": []
    },
    {
      "cell_type": "code",
      "source": [
        "multiply5N9 = multiplierOf5(9)"
      ],
      "metadata": {
        "id": "7yzRs9jvmMku"
      },
      "execution_count": null,
      "outputs": []
    },
    {
      "cell_type": "code",
      "source": [
        "multiply10N8 = multiplierOf10(8)"
      ],
      "metadata": {
        "id": "Yx6HMvdNmNfl"
      },
      "execution_count": null,
      "outputs": []
    },
    {
      "cell_type": "code",
      "source": [
        "print (f'The product of 5 and 9 is {multiply5N9}.')"
      ],
      "metadata": {
        "id": "KhI-DJkKmRa1",
        "colab": {
          "base_uri": "https://localhost:8080/"
        },
        "outputId": "758c296b-6cb3-43e8-c552-0436e01d7d50"
      },
      "execution_count": null,
      "outputs": [
        {
          "output_type": "stream",
          "name": "stdout",
          "text": [
            "The product of 5 and 9 is 45.\n"
          ]
        }
      ]
    },
    {
      "cell_type": "code",
      "source": [
        "print (f'The product of 10 and 8 is {multiply10N8}.')"
      ],
      "metadata": {
        "id": "Iq_UXyJkmSTF",
        "colab": {
          "base_uri": "https://localhost:8080/"
        },
        "outputId": "793f6d30-bcbf-4c15-e3c0-5e3312844732"
      },
      "execution_count": null,
      "outputs": [
        {
          "output_type": "stream",
          "name": "stdout",
          "text": [
            "The product of 10 and 8 is 80.\n"
          ]
        }
      ]
    },
    {
      "cell_type": "markdown",
      "source": [
        "##### All function object have a __closure__ attribute that returns a tuple of cell object if it is a closure fuction.\n"
      ],
      "metadata": {
        "id": "_pG-iGBRmVAz"
      }
    },
    {
      "cell_type": "code",
      "source": [
        "print(multiplierOf5.__closure__[0].cell_contents)"
      ],
      "metadata": {
        "id": "49svPLh-mW3j",
        "colab": {
          "base_uri": "https://localhost:8080/"
        },
        "outputId": "f0e7bdf3-45e3-4f0b-a323-777ca7d9ea5e"
      },
      "execution_count": null,
      "outputs": [
        {
          "output_type": "stream",
          "name": "stdout",
          "text": [
            "5\n"
          ]
        }
      ]
    },
    {
      "cell_type": "code",
      "source": [
        "print(multiplierOf10.__closure__[0].cell_contents)"
      ],
      "metadata": {
        "id": "DSNTkedUmYk5",
        "colab": {
          "base_uri": "https://localhost:8080/"
        },
        "outputId": "4fdc9e84-d686-4d66-aade-ee6ed6330908"
      },
      "execution_count": null,
      "outputs": [
        {
          "output_type": "stream",
          "name": "stdout",
          "text": [
            "10\n"
          ]
        }
      ]
    },
    {
      "cell_type": "code",
      "source": [
        "print(multiplierOf10.__closure__[0].cell_contents)"
      ],
      "metadata": {
        "id": "ZOgG1tf2OxjL",
        "colab": {
          "base_uri": "https://localhost:8080/"
        },
        "outputId": "260d3399-f8c8-42ea-e122-9115491c7130"
      },
      "execution_count": null,
      "outputs": [
        {
          "output_type": "stream",
          "name": "stdout",
          "text": [
            "10\n"
          ]
        }
      ]
    },
    {
      "cell_type": "markdown",
      "source": [
        "##### A cell object is essentially a container that holds a reference to a value. It's used in creating closures and can be accessed through the __closure__ attribute of a function object. You"
      ],
      "metadata": {
        "id": "hq4Dsq6UOytz"
      }
    },
    {
      "cell_type": "code",
      "source": [
        "'''\n",
        " Criteria for closure\n",
        " 1. There must be a nested function.\n",
        " 2. This nested function has to refer to a variable defined inside enclosing function.\n",
        " 3. The enclosing function must return the nested function.\n",
        "\n",
        "'''"
      ],
      "metadata": {
        "id": "-Nt1BJh9mbAG"
      },
      "execution_count": null,
      "outputs": []
    },
    {
      "cell_type": "markdown",
      "source": [
        "# Decorators"
      ],
      "metadata": {
        "id": "aqjAsic2meh_"
      }
    },
    {
      "cell_type": "markdown",
      "source": [
        "##### Python has feature called decorators to add functionality to the existing code.\n"
      ],
      "metadata": {
        "id": "yEx6sHYrmhqn"
      }
    },
    {
      "cell_type": "markdown",
      "source": [
        "##### This is also called metaprogramming as a part of the program tries to modify another part of the program at compile time.\n"
      ],
      "metadata": {
        "id": "QPZHaOIxmjzG"
      }
    },
    {
      "cell_type": "markdown",
      "source": [
        "##### Functions are callable as they can be called.Any object which implements the method __call__() is termed callable.\n"
      ],
      "metadata": {
        "id": "XZBUx__gmnEE"
      }
    },
    {
      "cell_type": "code",
      "source": [
        "def makeDecorated(func):\n",
        "    def inner():\n",
        "        print('The function got decorated.')\n",
        "        func()\n",
        "    return inner"
      ],
      "metadata": {
        "id": "LJER_x4vmmoe"
      },
      "execution_count": null,
      "outputs": []
    },
    {
      "cell_type": "code",
      "source": [
        "def simpleFunction():\n",
        "    print('This is a simple function.')"
      ],
      "metadata": {
        "id": "E8L6TfD8mpml"
      },
      "execution_count": null,
      "outputs": []
    },
    {
      "cell_type": "code",
      "source": [
        "decoratedFunction = makeDecorated(simpleFunction)"
      ],
      "metadata": {
        "id": "D6rplfojmru_"
      },
      "execution_count": null,
      "outputs": []
    },
    {
      "cell_type": "code",
      "source": [
        "decoratedFunction()"
      ],
      "metadata": {
        "id": "UTjM0Xs-ms2H",
        "colab": {
          "base_uri": "https://localhost:8080/"
        },
        "outputId": "a131bdcd-fea0-40e1-d87a-598b40f57b5d"
      },
      "execution_count": null,
      "outputs": [
        {
          "output_type": "stream",
          "name": "stdout",
          "text": [
            "The function got decorated.\n",
            "This is a simple function.\n"
          ]
        }
      ]
    },
    {
      "cell_type": "markdown",
      "source": [
        "##### Instead of passing the function to be decorated to the decorator function Python provides @<decorator_func>\n"
      ],
      "metadata": {
        "id": "HFovacPWmv4m"
      }
    },
    {
      "cell_type": "code",
      "source": [
        "@makeDecorated\n",
        "def simpleFunction():\n",
        "    print('This is a simple function.')\n",
        "\n",
        "simpleFunction()"
      ],
      "metadata": {
        "id": "vaMAwYAJmywM",
        "colab": {
          "base_uri": "https://localhost:8080/"
        },
        "outputId": "63787b37-438f-4a2c-ceff-f6182b61ec8b"
      },
      "execution_count": null,
      "outputs": [
        {
          "output_type": "stream",
          "name": "stdout",
          "text": [
            "The function got decorated.\n",
            "This is a simple function.\n"
          ]
        }
      ]
    },
    {
      "cell_type": "markdown",
      "source": [
        "#### Decorators with parameters\n"
      ],
      "metadata": {
        "id": "5sj6tdSYmygj"
      }
    },
    {
      "cell_type": "code",
      "source": [
        "def divideByZeroError(func):\n",
        "    def check(a,b):\n",
        "        print('The dividend is {} and divisor is {}.'.format(a,b))\n",
        "        if b==0:\n",
        "            print('The division cannot be carried out.')\n",
        "            return\n",
        "        return func(a,b)\n",
        "    return check"
      ],
      "metadata": {
        "id": "TAEXb_Vpm1yK"
      },
      "execution_count": null,
      "outputs": []
    },
    {
      "cell_type": "code",
      "source": [
        "@divideByZeroError\n",
        "def divide(a,b):\n",
        "    return a/b"
      ],
      "metadata": {
        "id": "6ZX_Y8mqm3Wu"
      },
      "execution_count": null,
      "outputs": []
    },
    {
      "cell_type": "code",
      "source": [
        "print('The result of division of 12 and 4 is {}'.format(divide(12,4)))"
      ],
      "metadata": {
        "id": "nn-NZo1sm5R2",
        "colab": {
          "base_uri": "https://localhost:8080/"
        },
        "outputId": "4043f26a-9ae5-4b45-fd7e-d66b63e6d17c"
      },
      "execution_count": null,
      "outputs": [
        {
          "output_type": "stream",
          "name": "stdout",
          "text": [
            "The dividend is 12 and divisor is 4.\n",
            "The result of division of 12 and 4 is 3.0\n"
          ]
        }
      ]
    },
    {
      "cell_type": "code",
      "source": [
        "print('The result of division of 12 and 0 is {}'.format(divide(12,0)))"
      ],
      "metadata": {
        "id": "PGv9Spfcm7ed",
        "colab": {
          "base_uri": "https://localhost:8080/"
        },
        "outputId": "5603d1b2-8fbc-439d-c432-3670fb0e5dd2"
      },
      "execution_count": null,
      "outputs": [
        {
          "output_type": "stream",
          "name": "stdout",
          "text": [
            "The dividend is 12 and divisor is 0.\n",
            "The division cannot be carried out.\n",
            "The result of division of 12 and 0 is None\n"
          ]
        }
      ]
    },
    {
      "cell_type": "markdown",
      "source": [
        "#### Pipeling decorators\n"
      ],
      "metadata": {
        "id": "-lDL1yGjm-kn"
      }
    },
    {
      "cell_type": "code",
      "source": [
        "'''\n",
        "@decorator1\n",
        "@decorator2\n",
        "def function1(*args, **kwargs):\n",
        "    pass\n",
        "\n",
        "\n",
        "The above code is equivalent to the following code:\n",
        "\n",
        "decorator1(decorator2(function1))(*args, **kwargs)\n",
        "\n",
        "'''"
      ],
      "metadata": {
        "id": "3m9C7wTSm-PT"
      },
      "execution_count": null,
      "outputs": []
    },
    {
      "cell_type": "markdown",
      "source": [
        "### Memoization using decorators\n"
      ],
      "metadata": {
        "id": "vKDz_zw6nCzL"
      }
    },
    {
      "cell_type": "markdown",
      "source": [
        "##### The issue with recursion is that in the recursion tree, there can be chances that the sub-problem that is already solved is solved again, which adds to overhead.\n"
      ],
      "metadata": {
        "id": "453XgFnMnHs8"
      }
    },
    {
      "cell_type": "markdown",
      "source": [
        "##### Memoization is a technique of recording the intermediate results so that it can be used to avoid repeated calculations and speed up the programs.\n"
      ],
      "metadata": {
        "id": "NkLhDszsnHpD"
      }
    },
    {
      "cell_type": "markdown",
      "source": [
        "#### Without use of memoization\n"
      ],
      "metadata": {
        "id": "p19LqnsInHk6"
      }
    },
    {
      "cell_type": "code",
      "source": [
        "def factorial1(num):\n",
        "    if num == 0 | num ==1 :\n",
        "        return 1\n",
        "    else :\n",
        "        return num * factorial1(num-1)"
      ],
      "metadata": {
        "id": "Fi-q4-e9nHUQ"
      },
      "execution_count": null,
      "outputs": []
    },
    {
      "cell_type": "code",
      "source": [
        "print('The factorial of 5 is {}.'.format(factorial1(5)))"
      ],
      "metadata": {
        "id": "tXVCRYXQnHNM",
        "colab": {
          "base_uri": "https://localhost:8080/"
        },
        "outputId": "f97dbae8-3637-44fc-9fb2-3d318e8926a8"
      },
      "execution_count": null,
      "outputs": [
        {
          "output_type": "stream",
          "name": "stdout",
          "text": [
            "The factorial of 5 is 120.\n"
          ]
        }
      ]
    },
    {
      "cell_type": "code",
      "source": [
        "print('The factorial of 5 is {}.'.format(factorial1(5)))\n",
        "# Same calculation is performed again."
      ],
      "metadata": {
        "id": "hMISiG6vnHFY",
        "colab": {
          "base_uri": "https://localhost:8080/"
        },
        "outputId": "a5f49b46-10b7-49f5-c7c4-91338a0d67aa"
      },
      "execution_count": null,
      "outputs": [
        {
          "output_type": "stream",
          "name": "stdout",
          "text": [
            "The factorial of 5 is 120.\n"
          ]
        }
      ]
    },
    {
      "cell_type": "markdown",
      "source": [
        "#### Optimizing using decorators"
      ],
      "metadata": {
        "id": "ztF9YJQrnWfw"
      }
    },
    {
      "cell_type": "code",
      "source": [
        "memory = {}\n",
        "\n",
        "def factorialMemory (func):\n",
        "    def innerFunction(num):\n",
        "        if num not in memory :\n",
        "            memory[num] = func(num)\n",
        "            print(f'The factorial of {num} is saved in memory.')\n",
        "        else :\n",
        "            print(f'Obtaining the factorial of {num} from memory.')\n",
        "        return memory[num]\n",
        "    return innerFunction\n",
        "\n"
      ],
      "metadata": {
        "id": "-oHCtl1QnChP"
      },
      "execution_count": null,
      "outputs": []
    },
    {
      "cell_type": "code",
      "source": [
        "@factorialMemory\n",
        "def factorial2(num):\n",
        "    if num == 0 | num ==1 :\n",
        "        return 1\n",
        "    else :\n",
        "        return num * factorial2(num-1)"
      ],
      "metadata": {
        "id": "pzpTaQkUnbR_"
      },
      "execution_count": null,
      "outputs": []
    },
    {
      "cell_type": "code",
      "source": [
        "print('The factorial of 5 is {}.'.format(factorial2(5)))"
      ],
      "metadata": {
        "id": "oYoYfNXHneeY",
        "colab": {
          "base_uri": "https://localhost:8080/"
        },
        "outputId": "928d042c-4bcc-4638-a531-a2f1be4b1c6d"
      },
      "execution_count": null,
      "outputs": [
        {
          "output_type": "stream",
          "name": "stdout",
          "text": [
            "The factorial of 1 is saved in memory.\n",
            "The factorial of 2 is saved in memory.\n",
            "The factorial of 3 is saved in memory.\n",
            "The factorial of 4 is saved in memory.\n",
            "The factorial of 5 is saved in memory.\n",
            "The factorial of 5 is 120.\n"
          ]
        }
      ]
    },
    {
      "cell_type": "code",
      "execution_count": null,
      "metadata": {
        "id": "isjpeHx3kOlV",
        "colab": {
          "base_uri": "https://localhost:8080/"
        },
        "outputId": "421ac2d3-63af-43f1-978b-6c42b9c3b357"
      },
      "outputs": [
        {
          "output_type": "stream",
          "name": "stdout",
          "text": [
            "Obtaining the factorial of 5 from memory.\n",
            "The factorial of 5 is 120.\n"
          ]
        }
      ],
      "source": [
        "print('The factorial of 5 is {}.'.format(factorial2(5)))\n",
        "# The value of this factorial is directly coming from memory.\n"
      ]
    }
  ]
}