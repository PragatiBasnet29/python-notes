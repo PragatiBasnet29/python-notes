{
  "nbformat": 4,
  "nbformat_minor": 0,
  "metadata": {
    "colab": {
      "provenance": [],
      "authorship_tag": "ABX9TyOUD1B9PWe5Ymoi3Gxlf9dB",
      "include_colab_link": true
    },
    "kernelspec": {
      "name": "python3",
      "display_name": "Python 3"
    },
    "language_info": {
      "name": "python"
    }
  },
  "cells": [
    {
      "cell_type": "markdown",
      "metadata": {
        "id": "view-in-github",
        "colab_type": "text"
      },
      "source": [
        "<a href=\"https://colab.research.google.com/github/Hatsuhinode/Python/blob/main/basicPython1.ipynb\" target=\"_parent\"><img src=\"https://colab.research.google.com/assets/colab-badge.svg\" alt=\"Open In Colab\"/></a>"
      ]
    },
    {
      "cell_type": "markdown",
      "source": [
        "# **Data Types in Python**"
      ],
      "metadata": {
        "id": "isr3kB9fZ6C5"
      }
    },
    {
      "cell_type": "markdown",
      "source": [
        "### Numeric Type Data"
      ],
      "metadata": {
        "id": "rNd3aJokaevJ"
      }
    },
    {
      "cell_type": "code",
      "source": [
        "integerData = 10\n",
        "floatingPointNumber = 10.5\n",
        "complexNumber = 10 + 8j"
      ],
      "metadata": {
        "id": "iZ2Y331YZ635"
      },
      "execution_count": null,
      "outputs": []
    },
    {
      "cell_type": "code",
      "source": [
        "complexNumber.real"
      ],
      "metadata": {
        "colab": {
          "base_uri": "https://localhost:8080/"
        },
        "id": "g8CLvNJLeUAj",
        "outputId": "b66422f9-be6f-4f6c-c0a0-a66254c327f2"
      },
      "execution_count": null,
      "outputs": [
        {
          "output_type": "execute_result",
          "data": {
            "text/plain": [
              "10.0"
            ]
          },
          "metadata": {},
          "execution_count": 22
        }
      ]
    },
    {
      "cell_type": "code",
      "source": [
        "complexNumber.imag"
      ],
      "metadata": {
        "colab": {
          "base_uri": "https://localhost:8080/"
        },
        "id": "HrHhMMCKeXqZ",
        "outputId": "dacb4aed-8644-45ee-e64c-ff1164ac8b85"
      },
      "execution_count": null,
      "outputs": [
        {
          "output_type": "execute_result",
          "data": {
            "text/plain": [
              "8.0"
            ]
          },
          "metadata": {},
          "execution_count": 23
        }
      ]
    },
    {
      "cell_type": "code",
      "source": [
        "type(integerData)"
      ],
      "metadata": {
        "colab": {
          "base_uri": "https://localhost:8080/"
        },
        "id": "pJ-nD500a1Z4",
        "outputId": "f4e48225-7c4a-460e-e6bf-c3b4f96f1037"
      },
      "execution_count": null,
      "outputs": [
        {
          "output_type": "execute_result",
          "data": {
            "text/plain": [
              "int"
            ]
          },
          "metadata": {},
          "execution_count": 24
        }
      ]
    },
    {
      "cell_type": "code",
      "source": [
        "type(floatingPointNumber)"
      ],
      "metadata": {
        "colab": {
          "base_uri": "https://localhost:8080/"
        },
        "id": "zz5v2bQGa1uu",
        "outputId": "d32b2ed0-2690-4595-92a0-e01d994f01a4"
      },
      "execution_count": null,
      "outputs": [
        {
          "output_type": "execute_result",
          "data": {
            "text/plain": [
              "float"
            ]
          },
          "metadata": {},
          "execution_count": 26
        }
      ]
    },
    {
      "cell_type": "code",
      "source": [
        "type(complexNumber)"
      ],
      "metadata": {
        "colab": {
          "base_uri": "https://localhost:8080/"
        },
        "id": "HRIi8N_xZ7d3",
        "outputId": "46d16927-4340-43de-a7ea-65aee05b42a4"
      },
      "execution_count": null,
      "outputs": [
        {
          "output_type": "execute_result",
          "data": {
            "text/plain": [
              "complex"
            ]
          },
          "metadata": {},
          "execution_count": 27
        }
      ]
    },
    {
      "cell_type": "code",
      "source": [
        "integerData + complexNumber"
      ],
      "metadata": {
        "colab": {
          "base_uri": "https://localhost:8080/"
        },
        "id": "JWG69FcIZ7Sc",
        "outputId": "a1d29976-f706-48f5-d6fc-88529558ccad"
      },
      "execution_count": null,
      "outputs": [
        {
          "output_type": "execute_result",
          "data": {
            "text/plain": [
              "(20+8j)"
            ]
          },
          "metadata": {},
          "execution_count": 28
        }
      ]
    },
    {
      "cell_type": "code",
      "source": [
        "floatingPointNumber + complexNumber"
      ],
      "metadata": {
        "colab": {
          "base_uri": "https://localhost:8080/"
        },
        "id": "DQxbi_spZ7YD",
        "outputId": "603ace02-bc08-4a30-e25e-d8d64193d530"
      },
      "execution_count": null,
      "outputs": [
        {
          "output_type": "execute_result",
          "data": {
            "text/plain": [
              "(20.5+8j)"
            ]
          },
          "metadata": {},
          "execution_count": 29
        }
      ]
    },
    {
      "cell_type": "code",
      "source": [
        "integerData / complexNumber"
      ],
      "metadata": {
        "colab": {
          "base_uri": "https://localhost:8080/"
        },
        "id": "VUplS-J4Z7m_",
        "outputId": "a7a1f60d-f0bd-4526-e908-91410b827d84"
      },
      "execution_count": null,
      "outputs": [
        {
          "output_type": "execute_result",
          "data": {
            "text/plain": [
              "(0.6097560975609757-0.48780487804878053j)"
            ]
          },
          "metadata": {},
          "execution_count": 30
        }
      ]
    },
    {
      "cell_type": "code",
      "source": [
        "floatingPointNumber / complexNumber"
      ],
      "metadata": {
        "colab": {
          "base_uri": "https://localhost:8080/"
        },
        "id": "vB5q6gyYZ7qO",
        "outputId": "fbe488aa-b7fd-4043-ba2f-1f167772049a"
      },
      "execution_count": null,
      "outputs": [
        {
          "output_type": "execute_result",
          "data": {
            "text/plain": [
              "(0.6402439024390244-0.5121951219512195j)"
            ]
          },
          "metadata": {},
          "execution_count": 31
        }
      ]
    },
    {
      "cell_type": "markdown",
      "source": [
        "#### Multiplication , Power and Subtraction operations are also possible between all 3 numeric data types."
      ],
      "metadata": {
        "id": "4DOcRgQ2bNyM"
      }
    },
    {
      "cell_type": "code",
      "source": [
        "integer1 = int(floatingPointNumber)\n",
        "integer1"
      ],
      "metadata": {
        "colab": {
          "base_uri": "https://localhost:8080/"
        },
        "id": "Y83AuuDgdjbG",
        "outputId": "1d65a08a-dc9b-4df9-b6d0-ebf5063ef123"
      },
      "execution_count": null,
      "outputs": [
        {
          "output_type": "execute_result",
          "data": {
            "text/plain": [
              "10"
            ]
          },
          "metadata": {},
          "execution_count": 32
        }
      ]
    },
    {
      "cell_type": "code",
      "source": [
        "floating1 = float(integerData)\n",
        "floating1"
      ],
      "metadata": {
        "colab": {
          "base_uri": "https://localhost:8080/"
        },
        "id": "3OjRz0_odsWt",
        "outputId": "65d263e4-1ff9-4d96-e9db-d8864f6c9dc0"
      },
      "execution_count": null,
      "outputs": [
        {
          "output_type": "execute_result",
          "data": {
            "text/plain": [
              "10.0"
            ]
          },
          "metadata": {},
          "execution_count": 33
        }
      ]
    },
    {
      "cell_type": "code",
      "source": [
        "integerReal = int(complexNumber.real)\n",
        "integerReal"
      ],
      "metadata": {
        "colab": {
          "base_uri": "https://localhost:8080/"
        },
        "id": "WcsydKj7eA_s",
        "outputId": "9b00af30-a7df-45f2-8e60-96fb17406278"
      },
      "execution_count": null,
      "outputs": [
        {
          "output_type": "execute_result",
          "data": {
            "text/plain": [
              "10"
            ]
          },
          "metadata": {},
          "execution_count": 34
        }
      ]
    },
    {
      "cell_type": "code",
      "source": [
        "type(complexNumber.real)"
      ],
      "metadata": {
        "colab": {
          "base_uri": "https://localhost:8080/"
        },
        "id": "wakxZRUPe7SI",
        "outputId": "2f68d02e-b579-433a-f267-a8cc13fd66f1"
      },
      "execution_count": null,
      "outputs": [
        {
          "output_type": "execute_result",
          "data": {
            "text/plain": [
              "float"
            ]
          },
          "metadata": {},
          "execution_count": 35
        }
      ]
    },
    {
      "cell_type": "code",
      "source": [
        "print(complexNumber.real)"
      ],
      "metadata": {
        "colab": {
          "base_uri": "https://localhost:8080/"
        },
        "id": "oHYDnxEdetTX",
        "outputId": "8afc4e67-94cb-42b0-f7af-20cd56c89f90"
      },
      "execution_count": null,
      "outputs": [
        {
          "output_type": "stream",
          "name": "stdout",
          "text": [
            "10.0\n"
          ]
        }
      ]
    },
    {
      "cell_type": "code",
      "source": [
        "type(complexNumber.imag)"
      ],
      "metadata": {
        "colab": {
          "base_uri": "https://localhost:8080/"
        },
        "id": "yqgnc8wMeA5d",
        "outputId": "5bf28891-b262-496c-a809-e181a3ae8d7c"
      },
      "execution_count": null,
      "outputs": [
        {
          "output_type": "execute_result",
          "data": {
            "text/plain": [
              "float"
            ]
          },
          "metadata": {},
          "execution_count": 38
        }
      ]
    },
    {
      "cell_type": "code",
      "source": [
        "print(complexNumber.imag)"
      ],
      "metadata": {
        "colab": {
          "base_uri": "https://localhost:8080/"
        },
        "id": "hayKPMnse9NT",
        "outputId": "9da041a7-0e5e-4a3a-a648-05a295b0ef06"
      },
      "execution_count": null,
      "outputs": [
        {
          "output_type": "stream",
          "name": "stdout",
          "text": [
            "8.0\n"
          ]
        }
      ]
    },
    {
      "cell_type": "markdown",
      "source": [
        "### Sequence type data"
      ],
      "metadata": {
        "id": "3aLm-qKpbcd0"
      }
    },
    {
      "cell_type": "code",
      "source": [
        "stringData = 'Doraemon'\n",
        "type(stringData)"
      ],
      "metadata": {
        "colab": {
          "base_uri": "https://localhost:8080/"
        },
        "id": "k1-3T4dVZ7ty",
        "outputId": "e8f2f677-059d-458f-daec-58d65b697e99"
      },
      "execution_count": null,
      "outputs": [
        {
          "output_type": "execute_result",
          "data": {
            "text/plain": [
              "str"
            ]
          },
          "metadata": {},
          "execution_count": 40
        }
      ]
    },
    {
      "cell_type": "code",
      "source": [
        "int(stringData)"
      ],
      "metadata": {
        "colab": {
          "base_uri": "https://localhost:8080/",
          "height": 179
        },
        "id": "cV7VStv8fFLr",
        "outputId": "32cb8e4f-4d84-4f57-e459-efd3c6b5bb19"
      },
      "execution_count": null,
      "outputs": [
        {
          "output_type": "error",
          "ename": "ValueError",
          "evalue": "ignored",
          "traceback": [
            "\u001b[0;31m---------------------------------------------------------------------------\u001b[0m",
            "\u001b[0;31mValueError\u001b[0m                                Traceback (most recent call last)",
            "\u001b[0;32m<ipython-input-41-188426afc78f>\u001b[0m in \u001b[0;36m<cell line: 1>\u001b[0;34m()\u001b[0m\n\u001b[0;32m----> 1\u001b[0;31m \u001b[0mint\u001b[0m\u001b[0;34m(\u001b[0m\u001b[0mstringData\u001b[0m\u001b[0;34m)\u001b[0m\u001b[0;34m\u001b[0m\u001b[0;34m\u001b[0m\u001b[0m\n\u001b[0m",
            "\u001b[0;31mValueError\u001b[0m: invalid literal for int() with base 10: 'Doraemon'"
          ]
        }
      ]
    },
    {
      "cell_type": "code",
      "source": [
        "stringData2 = '323'\n",
        "int(stringData2)"
      ],
      "metadata": {
        "colab": {
          "base_uri": "https://localhost:8080/"
        },
        "id": "pX_miRJ1fCqN",
        "outputId": "c1be573c-e1dd-4d40-b64e-6d372a476a2e"
      },
      "execution_count": null,
      "outputs": [
        {
          "output_type": "execute_result",
          "data": {
            "text/plain": [
              "323"
            ]
          },
          "metadata": {},
          "execution_count": 42
        }
      ]
    },
    {
      "cell_type": "code",
      "source": [
        "float(stringData2)"
      ],
      "metadata": {
        "colab": {
          "base_uri": "https://localhost:8080/"
        },
        "id": "4fCryYJzfNTU",
        "outputId": "c1b1c0ea-448f-4bad-fc01-fd22d79c215c"
      },
      "execution_count": null,
      "outputs": [
        {
          "output_type": "execute_result",
          "data": {
            "text/plain": [
              "323.0"
            ]
          },
          "metadata": {},
          "execution_count": 43
        }
      ]
    },
    {
      "cell_type": "code",
      "source": [
        "complex1 = complex(integerData)\n",
        "complex1"
      ],
      "metadata": {
        "colab": {
          "base_uri": "https://localhost:8080/"
        },
        "id": "0xP7B7s_fXVU",
        "outputId": "599fafbb-f286-4f0b-bcc9-acbdcb6f6e87"
      },
      "execution_count": null,
      "outputs": [
        {
          "output_type": "execute_result",
          "data": {
            "text/plain": [
              "(10+0j)"
            ]
          },
          "metadata": {},
          "execution_count": 44
        }
      ]
    },
    {
      "cell_type": "code",
      "source": [
        "complex2 = complex(floatingPointNumber)\n",
        "complex2"
      ],
      "metadata": {
        "colab": {
          "base_uri": "https://localhost:8080/"
        },
        "id": "6qXoV9XCfXFr",
        "outputId": "0cd54985-8a4b-49f7-bedf-7b8bd307b054"
      },
      "execution_count": null,
      "outputs": [
        {
          "output_type": "execute_result",
          "data": {
            "text/plain": [
              "(10.5+0j)"
            ]
          },
          "metadata": {},
          "execution_count": 45
        }
      ]
    },
    {
      "cell_type": "markdown",
      "source": [
        "#### List and Tuples are also sequence type datas.\n",
        "\n",
        "\n"
      ],
      "metadata": {
        "id": "gv3YWDtububg"
      }
    },
    {
      "cell_type": "markdown",
      "source": [
        "### Mapping Type Data"
      ],
      "metadata": {
        "id": "sA-7sBuIcn1P"
      }
    },
    {
      "cell_type": "markdown",
      "source": [
        "#### Dictionary is mapping type data."
      ],
      "metadata": {
        "id": "z8ySj7RYcvqx"
      }
    },
    {
      "cell_type": "markdown",
      "source": [
        "### Set Type Data"
      ],
      "metadata": {
        "id": "oFzXS80tdHuz"
      }
    },
    {
      "cell_type": "markdown",
      "source": [
        "#### Sets are set type datas."
      ],
      "metadata": {
        "id": "aTsY7kNXdNd9"
      }
    },
    {
      "cell_type": "markdown",
      "source": [
        "### Boolean Type Data"
      ],
      "metadata": {
        "id": "EOyset4bdZMc"
      }
    },
    {
      "cell_type": "code",
      "source": [
        "booleanData = True\n",
        "type (booleanData)"
      ],
      "metadata": {
        "colab": {
          "base_uri": "https://localhost:8080/"
        },
        "id": "78HJ3K3ob-_U",
        "outputId": "31726479-46f0-4af2-9fd7-afb0ce17ea39"
      },
      "execution_count": null,
      "outputs": [
        {
          "output_type": "execute_result",
          "data": {
            "text/plain": [
              "bool"
            ]
          },
          "metadata": {},
          "execution_count": 46
        }
      ]
    },
    {
      "cell_type": "code",
      "source": [
        "not booleanData"
      ],
      "metadata": {
        "colab": {
          "base_uri": "https://localhost:8080/"
        },
        "id": "fuJiXEjhcGFQ",
        "outputId": "e9c868fe-daf0-482c-fdb5-9f13e1d0accc"
      },
      "execution_count": null,
      "outputs": [
        {
          "output_type": "execute_result",
          "data": {
            "text/plain": [
              "False"
            ]
          },
          "metadata": {},
          "execution_count": 47
        }
      ]
    },
    {
      "cell_type": "markdown",
      "source": [
        "### None type data"
      ],
      "metadata": {
        "id": "KC9kercTcL0X"
      }
    },
    {
      "cell_type": "code",
      "source": [
        "noneData = None # None type data is used to denote no value.\n",
        "type(None)"
      ],
      "metadata": {
        "colab": {
          "base_uri": "https://localhost:8080/"
        },
        "id": "fPqdA36RcGCt",
        "outputId": "eb74e6f7-a08f-4e54-cb00-2550a37f751d"
      },
      "execution_count": null,
      "outputs": [
        {
          "output_type": "execute_result",
          "data": {
            "text/plain": [
              "NoneType"
            ]
          },
          "metadata": {},
          "execution_count": 48
        }
      ]
    },
    {
      "cell_type": "markdown",
      "source": [
        "\n",
        "#### Input from user"
      ],
      "metadata": {
        "id": "G3NNauzpufWK"
      }
    },
    {
      "cell_type": "code",
      "source": [
        "num1 = input(\"Enter first number:\\n\")\n",
        "num2 = input(\"Enter second number:\\n\")"
      ],
      "metadata": {
        "colab": {
          "base_uri": "https://localhost:8080/"
        },
        "id": "P7I7_s37ujd8",
        "outputId": "8d19c5e2-c579-49a6-d425-880d64a18713"
      },
      "execution_count": null,
      "outputs": [
        {
          "name": "stdout",
          "output_type": "stream",
          "text": [
            "Enter first number:\n",
            "10\n",
            "Enter second number:\n",
            "20\n"
          ]
        }
      ]
    },
    {
      "cell_type": "markdown",
      "source": [
        "# Mathematical operations in Python"
      ],
      "metadata": {
        "id": "QBTIAxrd3eU5"
      }
    },
    {
      "cell_type": "markdown",
      "source": [
        "### Addition operation"
      ],
      "metadata": {
        "id": "8L0VP60j0RYZ"
      }
    },
    {
      "cell_type": "code",
      "source": [
        "print(num1 + num2)"
      ],
      "metadata": {
        "colab": {
          "base_uri": "https://localhost:8080/"
        },
        "id": "ZLd3DBLqvbdR",
        "outputId": "7ec2f5b8-c0ed-4f66-f3c5-9d392573d72a"
      },
      "execution_count": null,
      "outputs": [
        {
          "output_type": "stream",
          "name": "stdout",
          "text": [
            "1020\n"
          ]
        }
      ]
    },
    {
      "cell_type": "code",
      "source": [
        "n1 = int(num1)\n",
        "n2 = int(num2)"
      ],
      "metadata": {
        "id": "QB4JG_9wvuSE"
      },
      "execution_count": null,
      "outputs": []
    },
    {
      "cell_type": "code",
      "source": [
        "n1 + n2"
      ],
      "metadata": {
        "colab": {
          "base_uri": "https://localhost:8080/"
        },
        "id": "fq7ERXYnv7CA",
        "outputId": "526be65f-05e1-41ee-ff4a-e7b2d49d5f76"
      },
      "execution_count": null,
      "outputs": [
        {
          "output_type": "execute_result",
          "data": {
            "text/plain": [
              "30"
            ]
          },
          "metadata": {},
          "execution_count": 52
        }
      ]
    },
    {
      "cell_type": "code",
      "source": [
        "num1 + num2"
      ],
      "metadata": {
        "colab": {
          "base_uri": "https://localhost:8080/",
          "height": 35
        },
        "id": "kj6f3lC3v8C5",
        "outputId": "73a914d2-b8f7-46ec-beca-1e7e72aa6b42"
      },
      "execution_count": null,
      "outputs": [
        {
          "output_type": "execute_result",
          "data": {
            "text/plain": [
              "'1020'"
            ],
            "application/vnd.google.colaboratory.intrinsic+json": {
              "type": "string"
            }
          },
          "metadata": {},
          "execution_count": 53
        }
      ]
    },
    {
      "cell_type": "markdown",
      "source": [
        "<pre> 1. For addition                 n1+n2 </pre>\n",
        "<pre> 2. For multiplication           n1 * n2 </pre>\n",
        "<pre> 3. For subtraction              n1 - n2 </pre>\n",
        "<pre> 4. For exponentiation           n1 ** n2 </pre>\n",
        "<pre> 5. For division                 n1 / n2 </pre>\n",
        "<pre> 6. For floor division           n1//n2 </pre>\n",
        "<pre> 7. For modulus                  n1 % n2 </pre>"
      ],
      "metadata": {
        "id": "-aZhsiL_v-3i"
      }
    },
    {
      "cell_type": "markdown",
      "source": [
        "### Multiplication operation\n"
      ],
      "metadata": {
        "id": "A6lgAoke0Vrp"
      }
    },
    {
      "cell_type": "code",
      "source": [
        "n1 * n2"
      ],
      "metadata": {
        "colab": {
          "base_uri": "https://localhost:8080/"
        },
        "id": "dLuPWGj10Y7r",
        "outputId": "84c598ea-021d-44aa-d303-a0cd7d29d497"
      },
      "execution_count": null,
      "outputs": [
        {
          "output_type": "execute_result",
          "data": {
            "text/plain": [
              "200"
            ]
          },
          "metadata": {},
          "execution_count": 54
        }
      ]
    },
    {
      "cell_type": "markdown",
      "source": [
        "###Power"
      ],
      "metadata": {
        "id": "Wwhocy4Z00cv"
      }
    },
    {
      "cell_type": "code",
      "source": [
        "2 ** 3"
      ],
      "metadata": {
        "colab": {
          "base_uri": "https://localhost:8080/"
        },
        "id": "d4VexoL40yQ3",
        "outputId": "f9fb7ae6-5428-429e-f8b3-4cd701605d0f"
      },
      "execution_count": null,
      "outputs": [
        {
          "output_type": "execute_result",
          "data": {
            "text/plain": [
              "8"
            ]
          },
          "metadata": {},
          "execution_count": 55
        }
      ]
    },
    {
      "cell_type": "code",
      "source": [
        "3 ** 2"
      ],
      "metadata": {
        "colab": {
          "base_uri": "https://localhost:8080/"
        },
        "id": "DCXRHY5u1JRZ",
        "outputId": "1785828b-e484-48a8-b9f8-f355b3150e9f"
      },
      "execution_count": null,
      "outputs": [
        {
          "output_type": "execute_result",
          "data": {
            "text/plain": [
              "9"
            ]
          },
          "metadata": {},
          "execution_count": 56
        }
      ]
    },
    {
      "cell_type": "markdown",
      "source": [
        "### Subtraction operation"
      ],
      "metadata": {
        "id": "-VHahs9o0oIw"
      }
    },
    {
      "cell_type": "code",
      "source": [
        "n1 - n2"
      ],
      "metadata": {
        "colab": {
          "base_uri": "https://localhost:8080/"
        },
        "id": "Gr6ZuODb6i3t",
        "outputId": "b55bb754-803c-4f81-a030-d124bce4fc0a"
      },
      "execution_count": null,
      "outputs": [
        {
          "output_type": "execute_result",
          "data": {
            "text/plain": [
              "-10"
            ]
          },
          "metadata": {},
          "execution_count": 179
        }
      ]
    },
    {
      "cell_type": "markdown",
      "source": [
        "### Division operation"
      ],
      "metadata": {
        "id": "L4dFnnyw0N8n"
      }
    },
    {
      "cell_type": "code",
      "source": [
        "99 / 5"
      ],
      "metadata": {
        "colab": {
          "base_uri": "https://localhost:8080/"
        },
        "id": "3D9pmPDTv9tG",
        "outputId": "4460acb3-eb37-49f2-f0f9-45e80c1ddf29"
      },
      "execution_count": null,
      "outputs": [
        {
          "output_type": "execute_result",
          "data": {
            "text/plain": [
              "19.8"
            ]
          },
          "metadata": {},
          "execution_count": 57
        }
      ]
    },
    {
      "cell_type": "code",
      "source": [
        "int(99 / 5)"
      ],
      "metadata": {
        "colab": {
          "base_uri": "https://localhost:8080/"
        },
        "id": "_qpGPCYWwVvH",
        "outputId": "81480981-6977-4a3b-c728-34b2f3b38265"
      },
      "execution_count": null,
      "outputs": [
        {
          "output_type": "execute_result",
          "data": {
            "text/plain": [
              "19"
            ]
          },
          "metadata": {},
          "execution_count": 58
        }
      ]
    },
    {
      "cell_type": "code",
      "source": [
        "10/3"
      ],
      "metadata": {
        "colab": {
          "base_uri": "https://localhost:8080/"
        },
        "id": "iZrC2OJczw2P",
        "outputId": "3c6bc5d4-82ca-4dea-e9ed-32df3b645ede"
      },
      "execution_count": null,
      "outputs": [
        {
          "output_type": "execute_result",
          "data": {
            "text/plain": [
              "3.3333333333333335"
            ]
          },
          "metadata": {},
          "execution_count": 59
        }
      ]
    },
    {
      "cell_type": "code",
      "source": [
        "int(10 / 3)"
      ],
      "metadata": {
        "colab": {
          "base_uri": "https://localhost:8080/"
        },
        "id": "vCiUOYQAzyE-",
        "outputId": "13373874-3695-4db8-efbb-19d6489f0228"
      },
      "execution_count": null,
      "outputs": [
        {
          "output_type": "execute_result",
          "data": {
            "text/plain": [
              "3"
            ]
          },
          "metadata": {},
          "execution_count": 60
        }
      ]
    },
    {
      "cell_type": "code",
      "source": [
        "10\\3"
      ],
      "metadata": {
        "id": "v-V7ghzT1Ttn",
        "colab": {
          "base_uri": "https://localhost:8080/",
          "height": 143
        },
        "outputId": "5ab8689f-8931-491f-d113-32f597d87b48"
      },
      "execution_count": null,
      "outputs": [
        {
          "output_type": "error",
          "ename": "SyntaxError",
          "evalue": "ignored",
          "traceback": [
            "\u001b[0;36m  File \u001b[0;32m\"<ipython-input-61-fac17f48ce1a>\"\u001b[0;36m, line \u001b[0;32m1\u001b[0m\n\u001b[0;31m    10\\3\u001b[0m\n\u001b[0m       ^\u001b[0m\n\u001b[0;31mSyntaxError\u001b[0m\u001b[0;31m:\u001b[0m unexpected character after line continuation character\n"
          ]
        }
      ]
    },
    {
      "cell_type": "markdown",
      "source": [
        "### Importing Library"
      ],
      "metadata": {
        "id": "1Tj0KlvT6ocQ"
      }
    },
    {
      "cell_type": "code",
      "source": [
        "import math"
      ],
      "metadata": {
        "id": "3auK7o8Oz1oH"
      },
      "execution_count": null,
      "outputs": []
    },
    {
      "cell_type": "code",
      "source": [
        "ceilingResult = math.ceil(99/5)\n",
        "print(ceilingResult)"
      ],
      "metadata": {
        "colab": {
          "base_uri": "https://localhost:8080/"
        },
        "id": "5EJ7LWn-z6ch",
        "outputId": "9ade61eb-6d82-4227-ae0e-a2c258504541"
      },
      "execution_count": null,
      "outputs": [
        {
          "output_type": "stream",
          "name": "stdout",
          "text": [
            "20\n"
          ]
        }
      ]
    },
    {
      "cell_type": "code",
      "source": [
        "floorResult = math.floor(99/5)\n",
        "floorResult"
      ],
      "metadata": {
        "colab": {
          "base_uri": "https://localhost:8080/"
        },
        "id": "J_k6VSg-0FmG",
        "outputId": "4c3fb6a0-d148-439a-ac1d-1141881f377d"
      },
      "execution_count": null,
      "outputs": [
        {
          "output_type": "execute_result",
          "data": {
            "text/plain": [
              "19"
            ]
          },
          "metadata": {},
          "execution_count": 64
        }
      ]
    },
    {
      "cell_type": "code",
      "source": [
        "99//5"
      ],
      "metadata": {
        "colab": {
          "base_uri": "https://localhost:8080/"
        },
        "id": "G4ih12wk8tA5",
        "outputId": "8eb55698-dc7d-4340-d886-ddc38d579ae3"
      },
      "execution_count": null,
      "outputs": [
        {
          "output_type": "execute_result",
          "data": {
            "text/plain": [
              "19"
            ]
          },
          "metadata": {},
          "execution_count": 65
        }
      ]
    },
    {
      "cell_type": "markdown",
      "source": [
        "### Modulus operation"
      ],
      "metadata": {
        "id": "cXoAd30N-Hbu"
      }
    },
    {
      "cell_type": "code",
      "source": [
        "10 % 3"
      ],
      "metadata": {
        "colab": {
          "base_uri": "https://localhost:8080/"
        },
        "id": "xtABRiSK-Nsd",
        "outputId": "dd202b4d-159b-4b94-d973-c085e3339440"
      },
      "execution_count": null,
      "outputs": [
        {
          "output_type": "execute_result",
          "data": {
            "text/plain": [
              "1"
            ]
          },
          "metadata": {},
          "execution_count": 67
        }
      ]
    },
    {
      "cell_type": "code",
      "source": [
        "10 % 2"
      ],
      "metadata": {
        "colab": {
          "base_uri": "https://localhost:8080/"
        },
        "id": "u7FiSOko-RWT",
        "outputId": "e936df63-a02e-4fd0-c70e-824c4cec23b3"
      },
      "execution_count": null,
      "outputs": [
        {
          "output_type": "execute_result",
          "data": {
            "text/plain": [
              "0"
            ]
          },
          "metadata": {},
          "execution_count": 68
        }
      ]
    },
    {
      "cell_type": "markdown",
      "source": [
        "# Precedence of operators"
      ],
      "metadata": {
        "id": "q7CN3wec7-vv"
      }
    },
    {
      "cell_type": "markdown",
      "source": [
        "<pre>1. Parentheses ()</pre>\n",
        "<pre>2. Exponentiation ** </pre>\n",
        "<pre>3. Multiplication *, Division /, Floor Division //, Modulus %</pre>\n",
        "<pre>4. Addition +, Subtraction -</pre>"
      ],
      "metadata": {
        "id": "ZXFT_QOS8KZ8"
      }
    },
    {
      "cell_type": "markdown",
      "source": [
        "#### **Multiplication, division, floor division, and modulus operations** are evaluated from **left to right**."
      ],
      "metadata": {
        "id": "P0Frb6PAAZnZ"
      }
    },
    {
      "cell_type": "markdown",
      "source": [
        "#### **Addition** and **subtraction** operations are evaluated from **left to right**."
      ],
      "metadata": {
        "id": "oVMzvw3v8jCA"
      }
    },
    {
      "cell_type": "code",
      "source": [
        "2 + 3 * 4"
      ],
      "metadata": {
        "colab": {
          "base_uri": "https://localhost:8080/"
        },
        "id": "g3WFWC2U-s3a",
        "outputId": "e2ceefab-771d-45f3-fe76-0e3c285c3be7"
      },
      "execution_count": null,
      "outputs": [
        {
          "output_type": "execute_result",
          "data": {
            "text/plain": [
              "14"
            ]
          },
          "metadata": {},
          "execution_count": 69
        }
      ]
    },
    {
      "cell_type": "code",
      "source": [
        "(2 + 3) * 4"
      ],
      "metadata": {
        "colab": {
          "base_uri": "https://localhost:8080/"
        },
        "id": "AMvgUG4nABvW",
        "outputId": "d53d002f-f40e-41f0-f1fb-819532fc2548"
      },
      "execution_count": null,
      "outputs": [
        {
          "output_type": "execute_result",
          "data": {
            "text/plain": [
              "20"
            ]
          },
          "metadata": {},
          "execution_count": 70
        }
      ]
    },
    {
      "cell_type": "code",
      "source": [
        "2 + 3 * 5 / 5 - 1"
      ],
      "metadata": {
        "colab": {
          "base_uri": "https://localhost:8080/"
        },
        "id": "qiQQqXalAzjh",
        "outputId": "43c92c7b-84b8-4f27-ac5c-1b3aab38c03c"
      },
      "execution_count": null,
      "outputs": [
        {
          "output_type": "execute_result",
          "data": {
            "text/plain": [
              "4.0"
            ]
          },
          "metadata": {},
          "execution_count": 71
        }
      ]
    },
    {
      "cell_type": "code",
      "source": [
        "2 + 3 * 5 // 5 - 1"
      ],
      "metadata": {
        "colab": {
          "base_uri": "https://localhost:8080/"
        },
        "id": "n5nK079xA9NK",
        "outputId": "95b76d76-c6c8-4e20-d8a3-e83774730bf1"
      },
      "execution_count": null,
      "outputs": [
        {
          "output_type": "execute_result",
          "data": {
            "text/plain": [
              "4"
            ]
          },
          "metadata": {},
          "execution_count": 72
        }
      ]
    },
    {
      "cell_type": "markdown",
      "source": [
        "####  The division / between two integers results in float. The floor division // between two integers results in an integer."
      ],
      "metadata": {
        "id": "nBH2AnbjBrUj"
      }
    },
    {
      "cell_type": "code",
      "source": [
        "2 ** 3 ** 2"
      ],
      "metadata": {
        "colab": {
          "base_uri": "https://localhost:8080/"
        },
        "id": "hZ7sWB1-AScV",
        "outputId": "6d25b7fd-e038-46d9-91ff-c0a96e7a47e6"
      },
      "execution_count": null,
      "outputs": [
        {
          "output_type": "execute_result",
          "data": {
            "text/plain": [
              "512"
            ]
          },
          "metadata": {},
          "execution_count": 73
        }
      ]
    },
    {
      "cell_type": "markdown",
      "source": [
        "#### Exponentiation (**) has right-to-left precedence, meaning the rightmost exponentiation is evaluated first."
      ],
      "metadata": {
        "id": "mMWHHEyWAnJA"
      }
    },
    {
      "cell_type": "markdown",
      "source": [
        "# List, Tuple, Set and Dictionary\n",
        "\n",
        "\n",
        "\n"
      ],
      "metadata": {
        "id": "Uj1buAA38y9D"
      }
    },
    {
      "cell_type": "markdown",
      "source": [
        "### List"
      ],
      "metadata": {
        "id": "y8oSnApz-QnM"
      }
    },
    {
      "cell_type": "code",
      "source": [
        "listOfElements = [1,2, \"Nezuko\", 3.5]"
      ],
      "metadata": {
        "id": "EjQMpZL18ya9"
      },
      "execution_count": null,
      "outputs": []
    },
    {
      "cell_type": "code",
      "source": [
        "print(listOfElements)"
      ],
      "metadata": {
        "colab": {
          "base_uri": "https://localhost:8080/"
        },
        "id": "EqFi64X88eyf",
        "outputId": "5c688e34-b8e0-408a-e310-bc734e5a83cb"
      },
      "execution_count": null,
      "outputs": [
        {
          "output_type": "stream",
          "name": "stdout",
          "text": [
            "[1, 2, 'Nezuko', 3.5]\n"
          ]
        }
      ]
    },
    {
      "cell_type": "code",
      "source": [
        "listOfElements[2]"
      ],
      "metadata": {
        "colab": {
          "base_uri": "https://localhost:8080/",
          "height": 35
        },
        "id": "be3d8aoY8euW",
        "outputId": "7559e257-1f54-45cc-b76f-f61700fb445d"
      },
      "execution_count": null,
      "outputs": [
        {
          "output_type": "execute_result",
          "data": {
            "text/plain": [
              "'Nezuko'"
            ],
            "application/vnd.google.colaboratory.intrinsic+json": {
              "type": "string"
            }
          },
          "metadata": {},
          "execution_count": 76
        }
      ]
    },
    {
      "cell_type": "code",
      "source": [
        "listOfElements[:3]"
      ],
      "metadata": {
        "colab": {
          "base_uri": "https://localhost:8080/"
        },
        "id": "7rEBsaKa8erM",
        "outputId": "81d71956-4d5f-4800-a870-0e069598eec1"
      },
      "execution_count": null,
      "outputs": [
        {
          "output_type": "execute_result",
          "data": {
            "text/plain": [
              "[1, 2, 'Nezuko']"
            ]
          },
          "metadata": {},
          "execution_count": 77
        }
      ]
    },
    {
      "cell_type": "code",
      "source": [
        "listOfElements[1:3]"
      ],
      "metadata": {
        "colab": {
          "base_uri": "https://localhost:8080/"
        },
        "id": "qTjZguFH8emD",
        "outputId": "6d5a302f-7299-4110-a393-ee2c68904b4a"
      },
      "execution_count": null,
      "outputs": [
        {
          "output_type": "execute_result",
          "data": {
            "text/plain": [
              "[2, 'Nezuko']"
            ]
          },
          "metadata": {},
          "execution_count": 78
        }
      ]
    },
    {
      "cell_type": "code",
      "source": [
        "listOfElements[0:]"
      ],
      "metadata": {
        "colab": {
          "base_uri": "https://localhost:8080/"
        },
        "id": "2FQBKfW08eom",
        "outputId": "a85b8d6e-98b0-4657-a987-99406bdfc0fc"
      },
      "execution_count": null,
      "outputs": [
        {
          "output_type": "execute_result",
          "data": {
            "text/plain": [
              "[1, 2, 'Nezuko', 3.5]"
            ]
          },
          "metadata": {},
          "execution_count": 79
        }
      ]
    },
    {
      "cell_type": "markdown",
      "source": [
        "#### Empty list"
      ],
      "metadata": {
        "id": "FzWIBpQ89hdK"
      }
    },
    {
      "cell_type": "code",
      "source": [
        "emptyList = []"
      ],
      "metadata": {
        "id": "ozF8RxOH9jQy"
      },
      "execution_count": null,
      "outputs": []
    },
    {
      "cell_type": "code",
      "source": [
        "emptyList.append(5)"
      ],
      "metadata": {
        "id": "q15Dar6B8ejI"
      },
      "execution_count": null,
      "outputs": []
    },
    {
      "cell_type": "code",
      "source": [
        "emptyList.append(10)"
      ],
      "metadata": {
        "id": "AQb-EXDr8egh"
      },
      "execution_count": null,
      "outputs": []
    },
    {
      "cell_type": "code",
      "source": [
        "emptyList"
      ],
      "metadata": {
        "colab": {
          "base_uri": "https://localhost:8080/"
        },
        "id": "cpUsl9mH8ed6",
        "outputId": "57837d43-40fc-4cfc-e624-132c551e01cb"
      },
      "execution_count": null,
      "outputs": [
        {
          "output_type": "execute_result",
          "data": {
            "text/plain": [
              "[5, 10]"
            ]
          },
          "metadata": {},
          "execution_count": 83
        }
      ]
    },
    {
      "cell_type": "code",
      "source": [
        "emptyList = [1] + emptyList"
      ],
      "metadata": {
        "id": "KI4tpIjS8eaS"
      },
      "execution_count": null,
      "outputs": []
    },
    {
      "cell_type": "code",
      "source": [
        "emptyList"
      ],
      "metadata": {
        "colab": {
          "base_uri": "https://localhost:8080/"
        },
        "id": "bW1h0zwl8eV1",
        "outputId": "e4edc32d-1472-4a7d-9558-0fa39babac9b"
      },
      "execution_count": null,
      "outputs": [
        {
          "output_type": "execute_result",
          "data": {
            "text/plain": [
              "[1, 5, 10]"
            ]
          },
          "metadata": {},
          "execution_count": 85
        }
      ]
    },
    {
      "cell_type": "code",
      "source": [
        "emptyList.insert(0,0.5)"
      ],
      "metadata": {
        "id": "o-8fvr_E8eTQ"
      },
      "execution_count": null,
      "outputs": []
    },
    {
      "cell_type": "code",
      "source": [
        "emptyList"
      ],
      "metadata": {
        "colab": {
          "base_uri": "https://localhost:8080/"
        },
        "id": "UP0pNTCb8eQ5",
        "outputId": "2275df27-e2ea-4b59-c06a-828c3e23d484"
      },
      "execution_count": null,
      "outputs": [
        {
          "output_type": "execute_result",
          "data": {
            "text/plain": [
              "[0.5, 1, 5, 10]"
            ]
          },
          "metadata": {},
          "execution_count": 87
        }
      ]
    },
    {
      "cell_type": "code",
      "source": [
        "emptyList.insert(2,3.5)"
      ],
      "metadata": {
        "id": "-0CiOBtV8eOS"
      },
      "execution_count": null,
      "outputs": []
    },
    {
      "cell_type": "code",
      "source": [
        "emptyList"
      ],
      "metadata": {
        "colab": {
          "base_uri": "https://localhost:8080/"
        },
        "id": "gJHcedmg8eLc",
        "outputId": "b8e52b78-621f-4e01-f676-bb07dadbcd61"
      },
      "execution_count": null,
      "outputs": [
        {
          "output_type": "execute_result",
          "data": {
            "text/plain": [
              "[0.5, 1, 3.5, 5, 10]"
            ]
          },
          "metadata": {},
          "execution_count": 89
        }
      ]
    },
    {
      "cell_type": "code",
      "source": [
        "emptyList.pop()"
      ],
      "metadata": {
        "colab": {
          "base_uri": "https://localhost:8080/"
        },
        "id": "HmAhfE32_AIw",
        "outputId": "73b7cda0-534b-41ee-ece5-5165e00970c5"
      },
      "execution_count": null,
      "outputs": [
        {
          "output_type": "execute_result",
          "data": {
            "text/plain": [
              "10"
            ]
          },
          "metadata": {},
          "execution_count": 90
        }
      ]
    },
    {
      "cell_type": "code",
      "source": [
        "emptyList"
      ],
      "metadata": {
        "colab": {
          "base_uri": "https://localhost:8080/"
        },
        "id": "ov-Cfd8D_Ccs",
        "outputId": "c625346e-6916-43c4-9ee7-f0b6bbab1d03"
      },
      "execution_count": null,
      "outputs": [
        {
          "output_type": "execute_result",
          "data": {
            "text/plain": [
              "[0.5, 1, 3.5, 5]"
            ]
          },
          "metadata": {},
          "execution_count": 91
        }
      ]
    },
    {
      "cell_type": "code",
      "source": [
        "emptyList[3] = 5.5"
      ],
      "metadata": {
        "id": "78Jhc0kM_zvM"
      },
      "execution_count": null,
      "outputs": []
    },
    {
      "cell_type": "code",
      "source": [
        "emptyList"
      ],
      "metadata": {
        "colab": {
          "base_uri": "https://localhost:8080/"
        },
        "id": "RYe2pKlf_6CB",
        "outputId": "903cc7c0-11e2-4901-dac9-a8e65f6d33e2"
      },
      "execution_count": null,
      "outputs": [
        {
          "output_type": "execute_result",
          "data": {
            "text/plain": [
              "[0.5, 1, 3.5, 5.5]"
            ]
          },
          "metadata": {},
          "execution_count": 93
        }
      ]
    },
    {
      "cell_type": "markdown",
      "source": [
        "#### **List** is **mutable**, meaning you can add, remove, or modify elements after the list is created. Lists are denoted by square brackets **[ ]** and can hold elements of different data types."
      ],
      "metadata": {
        "id": "zvRIRjJt_Rmi"
      }
    },
    {
      "cell_type": "markdown",
      "source": [
        "### Tuple"
      ],
      "metadata": {
        "id": "7WKVzoUU-fPP"
      }
    },
    {
      "cell_type": "markdown",
      "source": [
        "#### **Tuples** are **immutable** ."
      ],
      "metadata": {
        "id": "CScqAsMj_9Gv"
      }
    },
    {
      "cell_type": "code",
      "source": [
        "tuple1 = tuple(emptyList)"
      ],
      "metadata": {
        "id": "PpmKAruY-uaE"
      },
      "execution_count": null,
      "outputs": []
    },
    {
      "cell_type": "code",
      "source": [
        "tuple1"
      ],
      "metadata": {
        "colab": {
          "base_uri": "https://localhost:8080/"
        },
        "id": "vGHClDD8-u0g",
        "outputId": "624d4c68-1ec3-41fd-d32a-d27b3851cc1d"
      },
      "execution_count": null,
      "outputs": [
        {
          "output_type": "execute_result",
          "data": {
            "text/plain": [
              "(0.5, 1, 3.5, 5.5)"
            ]
          },
          "metadata": {},
          "execution_count": 97
        }
      ]
    },
    {
      "cell_type": "code",
      "source": [
        "tuple2 = (10,20,30,40,50,60)"
      ],
      "metadata": {
        "id": "3adMyCcG-vR4"
      },
      "execution_count": null,
      "outputs": []
    },
    {
      "cell_type": "code",
      "source": [
        "tuple2"
      ],
      "metadata": {
        "colab": {
          "base_uri": "https://localhost:8080/"
        },
        "id": "eHWqhH8e-wVT",
        "outputId": "a4520326-f7ff-440a-fca5-caabdfe5a7c0"
      },
      "execution_count": null,
      "outputs": [
        {
          "output_type": "execute_result",
          "data": {
            "text/plain": [
              "(10, 20, 30, 40, 50, 60)"
            ]
          },
          "metadata": {},
          "execution_count": 99
        }
      ]
    },
    {
      "cell_type": "markdown",
      "source": [
        "#### Adding elements to tuple"
      ],
      "metadata": {
        "id": "9JrrR1oVBL_1"
      }
    },
    {
      "cell_type": "code",
      "source": [
        "newTuple = (0,5) + tuple2 + (70, 80)"
      ],
      "metadata": {
        "id": "S3Q5d3EV-wkI"
      },
      "execution_count": null,
      "outputs": []
    },
    {
      "cell_type": "code",
      "source": [
        "newTuple"
      ],
      "metadata": {
        "colab": {
          "base_uri": "https://localhost:8080/"
        },
        "id": "uzeJF-TK-wx8",
        "outputId": "ee32c695-8775-4647-9c93-56cba89445ac"
      },
      "execution_count": null,
      "outputs": [
        {
          "output_type": "execute_result",
          "data": {
            "text/plain": [
              "(0, 5, 10, 20, 30, 40, 50, 60, 70, 80)"
            ]
          },
          "metadata": {},
          "execution_count": 101
        }
      ]
    },
    {
      "cell_type": "markdown",
      "source": [
        "####**You can concatenate tuples to create a new tuple.**"
      ],
      "metadata": {
        "id": "cqvVVYzMA7DZ"
      }
    },
    {
      "cell_type": "markdown",
      "source": [
        "#### Removing elements from tuple"
      ],
      "metadata": {
        "id": "ax9x5fWoBRTG"
      }
    },
    {
      "cell_type": "code",
      "source": [
        "newTuple2 = newTuple[0:3] + newTuple[-3:]"
      ],
      "metadata": {
        "id": "x0BmBiMd-2_H"
      },
      "execution_count": null,
      "outputs": []
    },
    {
      "cell_type": "code",
      "source": [
        "newTuple2"
      ],
      "metadata": {
        "colab": {
          "base_uri": "https://localhost:8080/"
        },
        "id": "ZKtsTocA-28w",
        "outputId": "6a00ba4e-7f16-4dcb-b127-aa2aedc1c24c"
      },
      "execution_count": null,
      "outputs": [
        {
          "output_type": "execute_result",
          "data": {
            "text/plain": [
              "(0, 5, 10, 60, 70, 80)"
            ]
          },
          "metadata": {},
          "execution_count": 103
        }
      ]
    },
    {
      "cell_type": "markdown",
      "source": [
        "#### Modifying elements in a tuple"
      ],
      "metadata": {
        "id": "puQ5LMGMB3nv"
      }
    },
    {
      "cell_type": "code",
      "source": [
        "newTuple3 = newTuple2[:2] + (50,) + newTuple2[-2:]"
      ],
      "metadata": {
        "id": "8RgnNBDI-254"
      },
      "execution_count": null,
      "outputs": []
    },
    {
      "cell_type": "code",
      "source": [
        "newTuple3"
      ],
      "metadata": {
        "colab": {
          "base_uri": "https://localhost:8080/"
        },
        "id": "NZRwUK2g-23S",
        "outputId": "93936108-7caa-4d96-c349-c943372891f8"
      },
      "execution_count": null,
      "outputs": [
        {
          "output_type": "execute_result",
          "data": {
            "text/plain": [
              "(0, 5, 50, 70, 80)"
            ]
          },
          "metadata": {},
          "execution_count": 105
        }
      ]
    },
    {
      "cell_type": "code",
      "source": [
        "newTuple3[2] = 50.5"
      ],
      "metadata": {
        "id": "Fcia63z3-2x2",
        "colab": {
          "base_uri": "https://localhost:8080/",
          "height": 179
        },
        "outputId": "b3cfb26a-bf0a-45bf-8f85-f9f57152f56d"
      },
      "execution_count": null,
      "outputs": [
        {
          "output_type": "error",
          "ename": "TypeError",
          "evalue": "ignored",
          "traceback": [
            "\u001b[0;31m---------------------------------------------------------------------------\u001b[0m",
            "\u001b[0;31mTypeError\u001b[0m                                 Traceback (most recent call last)",
            "\u001b[0;32m<ipython-input-106-ca7899a5c5b7>\u001b[0m in \u001b[0;36m<cell line: 1>\u001b[0;34m()\u001b[0m\n\u001b[0;32m----> 1\u001b[0;31m \u001b[0mnewTuple3\u001b[0m\u001b[0;34m[\u001b[0m\u001b[0;36m2\u001b[0m\u001b[0;34m]\u001b[0m \u001b[0;34m=\u001b[0m \u001b[0;36m50.5\u001b[0m\u001b[0;34m\u001b[0m\u001b[0;34m\u001b[0m\u001b[0m\n\u001b[0m",
            "\u001b[0;31mTypeError\u001b[0m: 'tuple' object does not support item assignment"
          ]
        }
      ]
    },
    {
      "cell_type": "markdown",
      "source": [
        "# Indexing"
      ],
      "metadata": {
        "id": "9saOV-tgCpI4"
      }
    },
    {
      "cell_type": "code",
      "source": [
        "newTuple3[2]"
      ],
      "metadata": {
        "colab": {
          "base_uri": "https://localhost:8080/"
        },
        "id": "Clp5Plra-20r",
        "outputId": "53164784-e650-4992-a4f6-dc765ee5d7e1"
      },
      "execution_count": null,
      "outputs": [
        {
          "output_type": "execute_result",
          "data": {
            "text/plain": [
              "50"
            ]
          },
          "metadata": {},
          "execution_count": 107
        }
      ]
    },
    {
      "cell_type": "markdown",
      "source": [
        "# Slicing"
      ],
      "metadata": {
        "id": "afqL8D6ZC2Nj"
      }
    },
    {
      "cell_type": "code",
      "source": [
        "newTuple3[:3]"
      ],
      "metadata": {
        "colab": {
          "base_uri": "https://localhost:8080/"
        },
        "id": "murYBNnA-2vO",
        "outputId": "01338738-f361-45c8-a6db-1be75d5d94b8"
      },
      "execution_count": null,
      "outputs": [
        {
          "output_type": "execute_result",
          "data": {
            "text/plain": [
              "(0, 5, 50)"
            ]
          },
          "metadata": {},
          "execution_count": 108
        }
      ]
    },
    {
      "cell_type": "markdown",
      "source": [
        "# Set"
      ],
      "metadata": {
        "id": "fyJ_PZ05DluC"
      }
    },
    {
      "cell_type": "code",
      "source": [
        "newSet = set(newTuple3)"
      ],
      "metadata": {
        "id": "VfcRTvlQDlRW"
      },
      "execution_count": null,
      "outputs": []
    },
    {
      "cell_type": "code",
      "source": [
        "newSet"
      ],
      "metadata": {
        "colab": {
          "base_uri": "https://localhost:8080/"
        },
        "id": "X-ugItA_DlOf",
        "outputId": "552d9c13-a7a5-47d7-882b-0ad08833435f"
      },
      "execution_count": null,
      "outputs": [
        {
          "output_type": "execute_result",
          "data": {
            "text/plain": [
              "{0, 5, 50, 70, 80}"
            ]
          },
          "metadata": {},
          "execution_count": 110
        }
      ]
    },
    {
      "cell_type": "code",
      "source": [
        "newSet.add(1)"
      ],
      "metadata": {
        "id": "_KXZIe5uDlLp"
      },
      "execution_count": null,
      "outputs": []
    },
    {
      "cell_type": "code",
      "source": [
        "newSet"
      ],
      "metadata": {
        "colab": {
          "base_uri": "https://localhost:8080/"
        },
        "id": "wjkH0hlHDlJS",
        "outputId": "3fcb8225-009b-414d-e097-f8a16a06cf28"
      },
      "execution_count": null,
      "outputs": [
        {
          "output_type": "execute_result",
          "data": {
            "text/plain": [
              "{0, 1, 5, 50, 70, 80}"
            ]
          },
          "metadata": {},
          "execution_count": 112
        }
      ]
    },
    {
      "cell_type": "code",
      "source": [
        "newSet.remove(50)"
      ],
      "metadata": {
        "id": "_I8a6uCRDlGt"
      },
      "execution_count": null,
      "outputs": []
    },
    {
      "cell_type": "code",
      "source": [
        "newSet"
      ],
      "metadata": {
        "colab": {
          "base_uri": "https://localhost:8080/"
        },
        "id": "IG7-BWHWDlEW",
        "outputId": "3142e44b-87a6-4026-bc7d-3788fd9e8f36"
      },
      "execution_count": null,
      "outputs": [
        {
          "output_type": "execute_result",
          "data": {
            "text/plain": [
              "{0, 1, 5, 70, 80}"
            ]
          },
          "metadata": {},
          "execution_count": 114
        }
      ]
    },
    {
      "cell_type": "code",
      "source": [
        "newSet.discard(70)"
      ],
      "metadata": {
        "id": "aArOs_J2EgIo"
      },
      "execution_count": null,
      "outputs": []
    },
    {
      "cell_type": "code",
      "source": [
        "newSet"
      ],
      "metadata": {
        "colab": {
          "base_uri": "https://localhost:8080/"
        },
        "id": "pgoG1xiMElBH",
        "outputId": "acd46f82-5b05-41f5-df83-908d25573b03"
      },
      "execution_count": null,
      "outputs": [
        {
          "output_type": "execute_result",
          "data": {
            "text/plain": [
              "{0, 1, 5, 80}"
            ]
          },
          "metadata": {},
          "execution_count": 116
        }
      ]
    },
    {
      "cell_type": "code",
      "source": [
        "updatingSet = {90,3,80,30}"
      ],
      "metadata": {
        "id": "F2u0MWVsDlBx"
      },
      "execution_count": null,
      "outputs": []
    },
    {
      "cell_type": "code",
      "source": [
        "type(updatingSet)"
      ],
      "metadata": {
        "colab": {
          "base_uri": "https://localhost:8080/"
        },
        "id": "Pm0IFS9wDk_K",
        "outputId": "05c5a525-884f-4e29-b5af-8aee4576b0fa"
      },
      "execution_count": null,
      "outputs": [
        {
          "output_type": "execute_result",
          "data": {
            "text/plain": [
              "set"
            ]
          },
          "metadata": {},
          "execution_count": 118
        }
      ]
    },
    {
      "cell_type": "code",
      "source": [
        "updatingSet"
      ],
      "metadata": {
        "colab": {
          "base_uri": "https://localhost:8080/"
        },
        "id": "R9jrf4AjDk81",
        "outputId": "52edfc52-2190-4a21-d0f8-5e6df6c60a8d"
      },
      "execution_count": null,
      "outputs": [
        {
          "output_type": "execute_result",
          "data": {
            "text/plain": [
              "{3, 30, 80, 90}"
            ]
          },
          "metadata": {},
          "execution_count": 119
        }
      ]
    },
    {
      "cell_type": "code",
      "source": [
        "newSet.update(updatingSet)"
      ],
      "metadata": {
        "id": "7OyZrU01Dk6b"
      },
      "execution_count": null,
      "outputs": []
    },
    {
      "cell_type": "code",
      "source": [
        "print(newSet)"
      ],
      "metadata": {
        "colab": {
          "base_uri": "https://localhost:8080/"
        },
        "id": "BQJ7Vl9yDk32",
        "outputId": "494308f3-7b92-4050-99ff-04d7fc948eb2"
      },
      "execution_count": null,
      "outputs": [
        {
          "output_type": "stream",
          "name": "stdout",
          "text": [
            "{0, 1, 3, 5, 80, 90, 30}\n"
          ]
        }
      ]
    },
    {
      "cell_type": "code",
      "source": [
        "newSet.update([8,1])"
      ],
      "metadata": {
        "id": "Lw5m4fpiDk1R"
      },
      "execution_count": null,
      "outputs": []
    },
    {
      "cell_type": "code",
      "source": [
        "newSet"
      ],
      "metadata": {
        "colab": {
          "base_uri": "https://localhost:8080/"
        },
        "id": "MJBpsKqSFLdY",
        "outputId": "a116381c-8bc4-471c-bdcf-aac6beab858d"
      },
      "execution_count": null,
      "outputs": [
        {
          "output_type": "execute_result",
          "data": {
            "text/plain": [
              "{0, 1, 3, 5, 8, 30, 80, 90}"
            ]
          },
          "metadata": {},
          "execution_count": 123
        }
      ]
    },
    {
      "cell_type": "markdown",
      "source": [
        "#### Sets are unordered collections of unique elements."
      ],
      "metadata": {
        "id": "kM0SyUZJFh27"
      }
    },
    {
      "cell_type": "code",
      "source": [
        "newSet[1]"
      ],
      "metadata": {
        "colab": {
          "base_uri": "https://localhost:8080/",
          "height": 179
        },
        "id": "Uj061Wh0Dky5",
        "outputId": "9e86ae34-8850-47b6-aa0a-33f77dcbd98f"
      },
      "execution_count": null,
      "outputs": [
        {
          "output_type": "error",
          "ename": "TypeError",
          "evalue": "ignored",
          "traceback": [
            "\u001b[0;31m---------------------------------------------------------------------------\u001b[0m",
            "\u001b[0;31mTypeError\u001b[0m                                 Traceback (most recent call last)",
            "\u001b[0;32m<ipython-input-124-0e44643d8de0>\u001b[0m in \u001b[0;36m<cell line: 1>\u001b[0;34m()\u001b[0m\n\u001b[0;32m----> 1\u001b[0;31m \u001b[0mnewSet\u001b[0m\u001b[0;34m[\u001b[0m\u001b[0;36m1\u001b[0m\u001b[0;34m]\u001b[0m\u001b[0;34m\u001b[0m\u001b[0;34m\u001b[0m\u001b[0m\n\u001b[0m",
            "\u001b[0;31mTypeError\u001b[0m: 'set' object is not subscriptable"
          ]
        }
      ]
    },
    {
      "cell_type": "markdown",
      "source": [
        "#### Sets do not support indexing or slicing because they are unordered collections."
      ],
      "metadata": {
        "id": "Qb4B01LCFvTy"
      }
    },
    {
      "cell_type": "code",
      "source": [
        "newSet2 = {3, 2, 12, 11, 70}"
      ],
      "metadata": {
        "id": "HygSotaBGm-Y"
      },
      "execution_count": null,
      "outputs": []
    },
    {
      "cell_type": "code",
      "source": [
        "newSet2"
      ],
      "metadata": {
        "colab": {
          "base_uri": "https://localhost:8080/"
        },
        "id": "nOsh7EDxGpOY",
        "outputId": "0c8b828d-452e-4501-8d27-36b771387ea3"
      },
      "execution_count": null,
      "outputs": [
        {
          "output_type": "execute_result",
          "data": {
            "text/plain": [
              "{2, 3, 11, 12, 70}"
            ]
          },
          "metadata": {},
          "execution_count": 126
        }
      ]
    },
    {
      "cell_type": "code",
      "source": [
        "sortedSet = sorted(newSet2, reverse=True)\n",
        "print(sortedSet)\n"
      ],
      "metadata": {
        "colab": {
          "base_uri": "https://localhost:8080/"
        },
        "id": "EpYegge4DkwR",
        "outputId": "33863fbc-5db6-4cb1-f31e-6a1a4e54a202"
      },
      "execution_count": null,
      "outputs": [
        {
          "output_type": "stream",
          "name": "stdout",
          "text": [
            "[70, 12, 11, 3, 2]\n"
          ]
        }
      ]
    },
    {
      "cell_type": "code",
      "source": [
        "newSet3 = {3, 2, 12, 11, 70}\n",
        "sortedSet2 = sorted(newSet3, reverse=True) # By default reverse = False for sorted().\n",
        "print(sortedSet2)"
      ],
      "metadata": {
        "colab": {
          "base_uri": "https://localhost:8080/"
        },
        "id": "U-Z8g_xfDktr",
        "outputId": "21647cd8-db49-4522-f2d9-26a3aead58e8"
      },
      "execution_count": null,
      "outputs": [
        {
          "output_type": "stream",
          "name": "stdout",
          "text": [
            "[70, 12, 11, 3, 2]\n"
          ]
        }
      ]
    },
    {
      "cell_type": "markdown",
      "source": [
        "#### The **sorted() function** returns a **new sorted list from the elements of the set**.  ????"
      ],
      "metadata": {
        "id": "MvcL0lhSHonF"
      }
    },
    {
      "cell_type": "markdown",
      "source": [
        "### Dictionary"
      ],
      "metadata": {
        "id": "lr-vpIzwIHL2"
      }
    },
    {
      "cell_type": "code",
      "source": [
        "dictionary1 = {}\n",
        "\n",
        "dictionary1['Driver'] = 'Sinpachi'\n",
        "dictionary1['Cook'] = 'Kagura'\n",
        "dictionary1['Janitor'] = 'Gintama'\n",
        "\n",
        "dictionary1"
      ],
      "metadata": {
        "colab": {
          "base_uri": "https://localhost:8080/"
        },
        "id": "ncSYi3U0Dkqz",
        "outputId": "53af31fc-227e-44b9-e669-a3dca073d146"
      },
      "execution_count": null,
      "outputs": [
        {
          "output_type": "execute_result",
          "data": {
            "text/plain": [
              "{'Driver': 'Sinpachi', 'Cook': 'Kagura', 'Janitor': 'Gintama'}"
            ]
          },
          "metadata": {},
          "execution_count": 129
        }
      ]
    },
    {
      "cell_type": "code",
      "source": [
        "dictionary2 = {1:'Pen',\n",
        "               10:'Pencil',\n",
        "               20:'Notebook',\n",
        "               3:'Chemistry book',\n",
        "               4:'Arithmetic book',\n",
        "               'e':'Eraser',\n",
        "               'A':1}"
      ],
      "metadata": {
        "id": "nNjKxCp1Dklm"
      },
      "execution_count": null,
      "outputs": []
    },
    {
      "cell_type": "code",
      "source": [
        "dictionary2"
      ],
      "metadata": {
        "colab": {
          "base_uri": "https://localhost:8080/"
        },
        "id": "ZPS9l56PDki_",
        "outputId": "95de3f1b-d77a-4fef-b7e4-cc9e5d446c4e"
      },
      "execution_count": null,
      "outputs": [
        {
          "output_type": "execute_result",
          "data": {
            "text/plain": [
              "{1: 'Pen',\n",
              " 10: 'Pencil',\n",
              " 20: 'Notebook',\n",
              " 3: 'Chemistry book',\n",
              " 4: 'Arithmetic book',\n",
              " 'e': 'Eraser',\n",
              " 'A': 1}"
            ]
          },
          "metadata": {},
          "execution_count": 131
        }
      ]
    },
    {
      "cell_type": "code",
      "source": [
        "dictionary2[1]"
      ],
      "metadata": {
        "colab": {
          "base_uri": "https://localhost:8080/",
          "height": 35
        },
        "id": "XQ4Sfp-gDkgJ",
        "outputId": "afca0999-adc4-4ce0-a3af-6f1c50300435"
      },
      "execution_count": null,
      "outputs": [
        {
          "output_type": "execute_result",
          "data": {
            "text/plain": [
              "'Pen'"
            ],
            "application/vnd.google.colaboratory.intrinsic+json": {
              "type": "string"
            }
          },
          "metadata": {},
          "execution_count": 132
        }
      ]
    },
    {
      "cell_type": "code",
      "source": [
        "dictionary2['e']"
      ],
      "metadata": {
        "colab": {
          "base_uri": "https://localhost:8080/",
          "height": 35
        },
        "id": "uwsjBESaDkZI",
        "outputId": "8ba89e4d-fdeb-4150-f78f-dc8033638645"
      },
      "execution_count": null,
      "outputs": [
        {
          "output_type": "execute_result",
          "data": {
            "text/plain": [
              "'Eraser'"
            ],
            "application/vnd.google.colaboratory.intrinsic+json": {
              "type": "string"
            }
          },
          "metadata": {},
          "execution_count": 133
        }
      ]
    },
    {
      "cell_type": "code",
      "source": [
        "dictionary2['A']"
      ],
      "metadata": {
        "colab": {
          "base_uri": "https://localhost:8080/"
        },
        "id": "g7RevKDnNLqk",
        "outputId": "4485970a-a061-4225-8bd6-f008554a8c53"
      },
      "execution_count": null,
      "outputs": [
        {
          "output_type": "execute_result",
          "data": {
            "text/plain": [
              "1"
            ]
          },
          "metadata": {},
          "execution_count": 134
        }
      ]
    },
    {
      "cell_type": "code",
      "source": [
        "dictionary2[3]"
      ],
      "metadata": {
        "colab": {
          "base_uri": "https://localhost:8080/",
          "height": 35
        },
        "id": "amZItMrHNMFo",
        "outputId": "02a855cf-e959-47d6-ef7f-832a98a33f98"
      },
      "execution_count": null,
      "outputs": [
        {
          "output_type": "execute_result",
          "data": {
            "text/plain": [
              "'Chemistry book'"
            ],
            "application/vnd.google.colaboratory.intrinsic+json": {
              "type": "string"
            }
          },
          "metadata": {},
          "execution_count": 135
        }
      ]
    },
    {
      "cell_type": "code",
      "source": [
        "dictionary2[4]"
      ],
      "metadata": {
        "colab": {
          "base_uri": "https://localhost:8080/",
          "height": 35
        },
        "id": "p08zRD_4NMVU",
        "outputId": "01df4335-462c-48f1-c645-5412ccbe3f6d"
      },
      "execution_count": null,
      "outputs": [
        {
          "output_type": "execute_result",
          "data": {
            "text/plain": [
              "'Arithmetic book'"
            ],
            "application/vnd.google.colaboratory.intrinsic+json": {
              "type": "string"
            }
          },
          "metadata": {},
          "execution_count": 136
        }
      ]
    },
    {
      "cell_type": "markdown",
      "source": [
        "#### Removing"
      ],
      "metadata": {
        "id": "VaEKmvuwN_ce"
      }
    },
    {
      "cell_type": "code",
      "source": [
        "del dictionary2['A']"
      ],
      "metadata": {
        "id": "SjH_DsuZNMcC"
      },
      "execution_count": null,
      "outputs": []
    },
    {
      "cell_type": "code",
      "source": [
        "dictionary2"
      ],
      "metadata": {
        "colab": {
          "base_uri": "https://localhost:8080/"
        },
        "id": "RTovGyBuNM1V",
        "outputId": "206f23e3-08b8-4305-b6cb-0aab7822ee99"
      },
      "execution_count": null,
      "outputs": [
        {
          "output_type": "execute_result",
          "data": {
            "text/plain": [
              "{1: 'Pen',\n",
              " 10: 'Pencil',\n",
              " 20: 'Notebook',\n",
              " 3: 'Chemistry book',\n",
              " 4: 'Arithmetic book',\n",
              " 'e': 'Eraser'}"
            ]
          },
          "metadata": {},
          "execution_count": 138
        }
      ]
    },
    {
      "cell_type": "markdown",
      "source": [
        "#### **Dictionaries are mutable**, which means their keys and values can be edited after the dictionary is created."
      ],
      "metadata": {
        "id": "qECj3g_FOS3H"
      }
    },
    {
      "cell_type": "code",
      "source": [
        "dictionary2.pop('e')"
      ],
      "metadata": {
        "colab": {
          "base_uri": "https://localhost:8080/",
          "height": 35
        },
        "id": "kzafZcKgNNjs",
        "outputId": "412af4fa-d7d9-4506-99e1-dfdab48bb947"
      },
      "execution_count": null,
      "outputs": [
        {
          "output_type": "execute_result",
          "data": {
            "text/plain": [
              "'Eraser'"
            ],
            "application/vnd.google.colaboratory.intrinsic+json": {
              "type": "string"
            }
          },
          "metadata": {},
          "execution_count": 139
        }
      ]
    },
    {
      "cell_type": "code",
      "source": [
        "dictionary2"
      ],
      "metadata": {
        "colab": {
          "base_uri": "https://localhost:8080/"
        },
        "id": "kN_A-dDnNNpI",
        "outputId": "7e7b1a84-6f31-4548-d673-c478fdb606dd"
      },
      "execution_count": null,
      "outputs": [
        {
          "output_type": "execute_result",
          "data": {
            "text/plain": [
              "{1: 'Pen',\n",
              " 10: 'Pencil',\n",
              " 20: 'Notebook',\n",
              " 3: 'Chemistry book',\n",
              " 4: 'Arithmetic book'}"
            ]
          },
          "metadata": {},
          "execution_count": 140
        }
      ]
    },
    {
      "cell_type": "code",
      "source": [
        "dictionary2['e'] = 'Eraser'"
      ],
      "metadata": {
        "id": "zdX9GVdyNNr2"
      },
      "execution_count": null,
      "outputs": []
    },
    {
      "cell_type": "code",
      "source": [
        "dictionary2"
      ],
      "metadata": {
        "colab": {
          "base_uri": "https://localhost:8080/"
        },
        "id": "T06p469rNNws",
        "outputId": "d8026539-6d34-4581-c886-f598e7000189"
      },
      "execution_count": null,
      "outputs": [
        {
          "output_type": "execute_result",
          "data": {
            "text/plain": [
              "{1: 'Pen',\n",
              " 10: 'Pencil',\n",
              " 20: 'Notebook',\n",
              " 3: 'Chemistry book',\n",
              " 4: 'Arithmetic book',\n",
              " 'e': 'Eraser'}"
            ]
          },
          "metadata": {},
          "execution_count": 142
        }
      ]
    },
    {
      "cell_type": "code",
      "source": [
        "dictionary2[5] = dictionary2.pop('e')"
      ],
      "metadata": {
        "id": "VlUjjLDGNN4T"
      },
      "execution_count": null,
      "outputs": []
    },
    {
      "cell_type": "code",
      "source": [
        "dictionary2"
      ],
      "metadata": {
        "colab": {
          "base_uri": "https://localhost:8080/"
        },
        "id": "DXpGJVBFNN7F",
        "outputId": "be150f77-1373-4382-cb87-7c94c5613dd0"
      },
      "execution_count": null,
      "outputs": [
        {
          "output_type": "execute_result",
          "data": {
            "text/plain": [
              "{1: 'Pen',\n",
              " 10: 'Pencil',\n",
              " 20: 'Notebook',\n",
              " 3: 'Chemistry book',\n",
              " 4: 'Arithmetic book',\n",
              " 5: 'Eraser'}"
            ]
          },
          "metadata": {},
          "execution_count": 144
        }
      ]
    },
    {
      "cell_type": "code",
      "source": [
        "dictionary2.keys()"
      ],
      "metadata": {
        "colab": {
          "base_uri": "https://localhost:8080/"
        },
        "id": "_kQ4MD_LPLKl",
        "outputId": "216f6aaa-1536-46a2-c9d9-8cecd438657e"
      },
      "execution_count": null,
      "outputs": [
        {
          "output_type": "execute_result",
          "data": {
            "text/plain": [
              "dict_keys([1, 10, 20, 3, 4, 5])"
            ]
          },
          "metadata": {},
          "execution_count": 145
        }
      ]
    },
    {
      "cell_type": "code",
      "source": [
        "dictionary2.values()"
      ],
      "metadata": {
        "colab": {
          "base_uri": "https://localhost:8080/"
        },
        "id": "APQbY4jIPLH-",
        "outputId": "9e3d4440-025e-4b1a-e40b-d3308c463b88"
      },
      "execution_count": null,
      "outputs": [
        {
          "output_type": "execute_result",
          "data": {
            "text/plain": [
              "dict_values(['Pen', 'Pencil', 'Notebook', 'Chemistry book', 'Arithmetic book', 'Eraser'])"
            ]
          },
          "metadata": {},
          "execution_count": 146
        }
      ]
    },
    {
      "cell_type": "code",
      "source": [
        "dictionary2.items()"
      ],
      "metadata": {
        "colab": {
          "base_uri": "https://localhost:8080/"
        },
        "id": "KxkBirk9PprW",
        "outputId": "1aeb32be-d64b-40a5-d1ad-06ea10961e8b"
      },
      "execution_count": null,
      "outputs": [
        {
          "output_type": "execute_result",
          "data": {
            "text/plain": [
              "dict_items([(1, 'Pen'), (10, 'Pencil'), (20, 'Notebook'), (3, 'Chemistry book'), (4, 'Arithmetic book'), (5, 'Eraser')])"
            ]
          },
          "metadata": {},
          "execution_count": 147
        }
      ]
    },
    {
      "cell_type": "markdown",
      "source": [
        "#### To list"
      ],
      "metadata": {
        "id": "p_0vzps2Pooj"
      }
    },
    {
      "cell_type": "code",
      "source": [
        "listOfKeys = list(dictionary2.keys())\n",
        "listOfKeys"
      ],
      "metadata": {
        "colab": {
          "base_uri": "https://localhost:8080/"
        },
        "id": "Kwo7KRBAPLFY",
        "outputId": "42645200-375b-4a57-c504-00fc45642c11"
      },
      "execution_count": null,
      "outputs": [
        {
          "output_type": "execute_result",
          "data": {
            "text/plain": [
              "[1, 10, 20, 3, 4, 5]"
            ]
          },
          "metadata": {},
          "execution_count": 148
        }
      ]
    },
    {
      "cell_type": "code",
      "source": [
        "tupleOfitems = tuple(dictionary2.items())\n",
        "tupleOfitems"
      ],
      "metadata": {
        "colab": {
          "base_uri": "https://localhost:8080/"
        },
        "id": "xDJCsvMIPLCz",
        "outputId": "61e5b6d7-2c01-447f-85b9-80bbbf6c4499"
      },
      "execution_count": null,
      "outputs": [
        {
          "output_type": "execute_result",
          "data": {
            "text/plain": [
              "((1, 'Pen'),\n",
              " (10, 'Pencil'),\n",
              " (20, 'Notebook'),\n",
              " (3, 'Chemistry book'),\n",
              " (4, 'Arithmetic book'),\n",
              " (5, 'Eraser'))"
            ]
          },
          "metadata": {},
          "execution_count": 149
        }
      ]
    },
    {
      "cell_type": "markdown",
      "source": [
        "#### To string"
      ],
      "metadata": {
        "id": "tNVMFnJ8QCv-"
      }
    },
    {
      "cell_type": "code",
      "source": [
        "dictToString = str(dictionary2)\n",
        "dictToString"
      ],
      "metadata": {
        "colab": {
          "base_uri": "https://localhost:8080/",
          "height": 35
        },
        "id": "a2NlN-fRPLAa",
        "outputId": "3bfe4a78-cd66-46e1-f626-0e2dbf698ecd"
      },
      "execution_count": null,
      "outputs": [
        {
          "output_type": "execute_result",
          "data": {
            "text/plain": [
              "\"{1: 'Pen', 10: 'Pencil', 20: 'Notebook', 3: 'Chemistry book', 4: 'Arithmetic book', 5: 'Eraser'}\""
            ],
            "application/vnd.google.colaboratory.intrinsic+json": {
              "type": "string"
            }
          },
          "metadata": {},
          "execution_count": 150
        }
      ]
    },
    {
      "cell_type": "markdown",
      "source": [
        "#### From list"
      ],
      "metadata": {
        "id": "hrKHisynQmsU"
      }
    },
    {
      "cell_type": "code",
      "source": [
        "l1 = [['a',1],['b',2],['c',3]]\n",
        "\n",
        "dictFromList = dict(l1)\n",
        "dictFromList"
      ],
      "metadata": {
        "colab": {
          "base_uri": "https://localhost:8080/"
        },
        "id": "i5W2wxz5PK91",
        "outputId": "e333980d-6bfa-4c24-80f4-d1b150edc840"
      },
      "execution_count": null,
      "outputs": [
        {
          "output_type": "execute_result",
          "data": {
            "text/plain": [
              "{'a': 1, 'b': 2, 'c': 3}"
            ]
          },
          "metadata": {},
          "execution_count": 151
        }
      ]
    },
    {
      "cell_type": "markdown",
      "source": [
        "#### From Tuple"
      ],
      "metadata": {
        "id": "brPNBMtHQ-ls"
      }
    },
    {
      "cell_type": "code",
      "source": [
        "t1 = (('a',1),('b',2),('c',3))\n",
        "\n",
        "dictFromList = dict(l1)\n",
        "dictFromList"
      ],
      "metadata": {
        "colab": {
          "base_uri": "https://localhost:8080/"
        },
        "id": "f5b9sCKTPK7f",
        "outputId": "73f1b3ed-ef16-41f1-b3a8-e8dcc6d8cd1b"
      },
      "execution_count": null,
      "outputs": [
        {
          "output_type": "execute_result",
          "data": {
            "text/plain": [
              "{'a': 1, 'b': 2, 'c': 3}"
            ]
          },
          "metadata": {},
          "execution_count": 152
        }
      ]
    },
    {
      "cell_type": "markdown",
      "source": [
        "#### From string"
      ],
      "metadata": {
        "id": "TF_8t9xgRXMl"
      }
    },
    {
      "cell_type": "code",
      "source": [
        "string1 = \"a:1,b:2,c:3\"\n",
        "\n",
        "pairs = string1.split(',')\n",
        "pairs"
      ],
      "metadata": {
        "colab": {
          "base_uri": "https://localhost:8080/"
        },
        "id": "8YbAw3L-PK43",
        "outputId": "d9c511f7-fae5-4358-c96c-968b664558ad"
      },
      "execution_count": null,
      "outputs": [
        {
          "output_type": "execute_result",
          "data": {
            "text/plain": [
              "['a:1', 'b:2', 'c:3']"
            ]
          },
          "metadata": {},
          "execution_count": 153
        }
      ]
    },
    {
      "cell_type": "code",
      "source": [
        "emptyDict = {}\n",
        "for pair in pairs:\n",
        "    key, value = pair.split(':')\n",
        "    print('The key is :',key)\n",
        "    print('The value is :',value)\n",
        "    print('\\n')\n",
        "    emptyDict[key] = int(value)"
      ],
      "metadata": {
        "colab": {
          "base_uri": "https://localhost:8080/"
        },
        "id": "kBQYqZbTPKyo",
        "outputId": "57033faf-e8e1-4c6b-eb6d-d5bc07a02b08"
      },
      "execution_count": null,
      "outputs": [
        {
          "output_type": "stream",
          "name": "stdout",
          "text": [
            "The key is : a\n",
            "The value is : 1\n",
            "\n",
            "\n",
            "The key is : b\n",
            "The value is : 2\n",
            "\n",
            "\n",
            "The key is : c\n",
            "The value is : 3\n",
            "\n",
            "\n"
          ]
        }
      ]
    },
    {
      "cell_type": "code",
      "source": [
        "emptyDict"
      ],
      "metadata": {
        "colab": {
          "base_uri": "https://localhost:8080/"
        },
        "id": "7yFNhZrbSTEp",
        "outputId": "e043f64d-068c-4b5d-f5d7-c051244f172e"
      },
      "execution_count": null,
      "outputs": [
        {
          "output_type": "execute_result",
          "data": {
            "text/plain": [
              "{'a': 1, 'b': 2, 'c': 3}"
            ]
          },
          "metadata": {},
          "execution_count": 155
        }
      ]
    },
    {
      "cell_type": "markdown",
      "source": [
        "# Looping"
      ],
      "metadata": {
        "id": "-vB-cba81opl"
      }
    },
    {
      "cell_type": "markdown",
      "source": [
        "### For Loop"
      ],
      "metadata": {
        "id": "-414dnNBW1i1"
      }
    },
    {
      "cell_type": "code",
      "source": [
        "for(i = 0; i<=5 ; i++){\n",
        "    printf(\"Welcome everyone.\")\n",
        "}"
      ],
      "metadata": {
        "id": "hvA2EUOX0K4Z",
        "colab": {
          "base_uri": "https://localhost:8080/",
          "height": 143
        },
        "outputId": "bf44a67e-8c31-4edd-c5b4-9189f0ada9e2"
      },
      "execution_count": null,
      "outputs": [
        {
          "output_type": "error",
          "ename": "SyntaxError",
          "evalue": "ignored",
          "traceback": [
            "\u001b[0;36m  File \u001b[0;32m\"<ipython-input-157-f1975f4634fd>\"\u001b[0;36m, line \u001b[0;32m1\u001b[0m\n\u001b[0;31m    for(i = 0; i<=5 ; i++){\u001b[0m\n\u001b[0m        ^\u001b[0m\n\u001b[0;31mSyntaxError\u001b[0m\u001b[0;31m:\u001b[0m invalid syntax. Maybe you meant '==' or ':=' instead of '='?\n"
          ]
        }
      ]
    },
    {
      "cell_type": "code",
      "source": [
        "for numbers in range (0,5):\n",
        "  print(numbers)"
      ],
      "metadata": {
        "colab": {
          "base_uri": "https://localhost:8080/"
        },
        "id": "FnQTk4BR3bek",
        "outputId": "2b22f9a0-facb-41db-a031-6bb8adc4211f"
      },
      "execution_count": null,
      "outputs": [
        {
          "output_type": "stream",
          "name": "stdout",
          "text": [
            "0\n",
            "1\n",
            "2\n",
            "3\n",
            "4\n"
          ]
        }
      ]
    },
    {
      "cell_type": "code",
      "source": [
        "for numbers in range (5):\n",
        "  print(numbers)"
      ],
      "metadata": {
        "colab": {
          "base_uri": "https://localhost:8080/"
        },
        "id": "MHEk5bAA8BbJ",
        "outputId": "68fd38d4-6893-4a63-e920-b4d28e071197"
      },
      "execution_count": null,
      "outputs": [
        {
          "output_type": "stream",
          "name": "stdout",
          "text": [
            "0\n",
            "1\n",
            "2\n",
            "3\n",
            "4\n"
          ]
        }
      ]
    },
    {
      "cell_type": "markdown",
      "source": [
        "####**range()** generates a sequence a number."
      ],
      "metadata": {
        "id": "bIX-ipB14S3c"
      }
    },
    {
      "cell_type": "code",
      "source": [
        "for numbers in range (0,5,2):\n",
        "  print(numbers)"
      ],
      "metadata": {
        "colab": {
          "base_uri": "https://localhost:8080/"
        },
        "id": "PuwNdPWh3-Gc",
        "outputId": "30dd4e32-42dc-4a30-a799-80a4c1f7c3fd"
      },
      "execution_count": null,
      "outputs": [
        {
          "output_type": "stream",
          "name": "stdout",
          "text": [
            "0\n",
            "2\n",
            "4\n"
          ]
        }
      ]
    },
    {
      "cell_type": "markdown",
      "source": [
        "####In Python, a sequence and a list are related but not exactly the same.####\n",
        "\n",
        "#### - **Sequence:** It's a general term used to describe an ordered collection of items where you can access elements by their positions. Sequences can include various types like lists, tuples, strings, etc. They all maintain an order and allow indexing and slicing.####\n",
        "\n",
        "####- **List:** A list is a specific type of sequence in Python. It's mutable, meaning you can add, remove, or modify elements after the list is created. Lists are denoted by square brackets **[ ]** and can hold elements of different data types.####\n",
        "\n"
      ],
      "metadata": {
        "id": "q4TKONlm4n_p"
      }
    },
    {
      "cell_type": "markdown",
      "source": [
        "####**range()** returns a sequence called a \"**range object.**\""
      ],
      "metadata": {
        "id": "vgwhJnss5Ua6"
      }
    },
    {
      "cell_type": "markdown",
      "source": [
        "#### A **range object** represents an immutable sequence of numbers and is designed to generate a **sequence of integers**.####\n",
        "\n",
        "#### It behaves like a sequence in that it allows iteration over the numbers it represents and supports **indexing** and slicing, but it doesn't store all the numbers in memory at once. Instead, it generates them as they are needed, making it memory efficient. ####"
      ],
      "metadata": {
        "id": "3TXGY7JP5rZX"
      }
    },
    {
      "cell_type": "markdown",
      "source": [
        "#### - **Indexing** : Accessing specific elements by their index within the range sequence. ####\n",
        "\n",
        "#### - **Slicing** : Obtaining a subset of the sequence by specifying start, end, and step size within square brackets. ####"
      ],
      "metadata": {
        "id": "PwpzuL5Z65-p"
      }
    },
    {
      "cell_type": "markdown",
      "source": [
        "### List as a sequence."
      ],
      "metadata": {
        "id": "zvpLr32z5D7z"
      }
    },
    {
      "cell_type": "code",
      "source": [
        "rangeOfNum = range(5,15)\n",
        "rangeOfNum"
      ],
      "metadata": {
        "colab": {
          "base_uri": "https://localhost:8080/"
        },
        "id": "gkgCjL6f5Dhg",
        "outputId": "13f45014-9d7b-4c2d-8ce1-592cff7b61d8"
      },
      "execution_count": null,
      "outputs": [
        {
          "output_type": "execute_result",
          "data": {
            "text/plain": [
              "range(5, 15)"
            ]
          },
          "metadata": {},
          "execution_count": 160
        }
      ]
    },
    {
      "cell_type": "code",
      "source": [
        "rangeOfNum[3]"
      ],
      "metadata": {
        "colab": {
          "base_uri": "https://localhost:8080/"
        },
        "id": "MCvJEQf44BMy",
        "outputId": "b0622d26-6f31-4035-9903-a7b1474496fa"
      },
      "execution_count": null,
      "outputs": [
        {
          "output_type": "execute_result",
          "data": {
            "text/plain": [
              "8"
            ]
          },
          "metadata": {},
          "execution_count": 161
        }
      ]
    },
    {
      "cell_type": "code",
      "source": [
        "rangeOfNum[10]"
      ],
      "metadata": {
        "id": "GihU_kK47bzS",
        "colab": {
          "base_uri": "https://localhost:8080/",
          "height": 179
        },
        "outputId": "2554c062-99eb-4056-8c6e-248ad2052c07"
      },
      "execution_count": null,
      "outputs": [
        {
          "output_type": "error",
          "ename": "IndexError",
          "evalue": "ignored",
          "traceback": [
            "\u001b[0;31m---------------------------------------------------------------------------\u001b[0m",
            "\u001b[0;31mIndexError\u001b[0m                                Traceback (most recent call last)",
            "\u001b[0;32m<ipython-input-162-f410e69fd878>\u001b[0m in \u001b[0;36m<cell line: 1>\u001b[0;34m()\u001b[0m\n\u001b[0;32m----> 1\u001b[0;31m \u001b[0mrangeOfNum\u001b[0m\u001b[0;34m[\u001b[0m\u001b[0;36m10\u001b[0m\u001b[0;34m]\u001b[0m\u001b[0;34m\u001b[0m\u001b[0;34m\u001b[0m\u001b[0m\n\u001b[0m",
            "\u001b[0;31mIndexError\u001b[0m: range object index out of range"
          ]
        }
      ]
    },
    {
      "cell_type": "code",
      "source": [
        "rangeOfNum[0 : 8]"
      ],
      "metadata": {
        "colab": {
          "base_uri": "https://localhost:8080/"
        },
        "id": "PyBV7Bs57XXq",
        "outputId": "3f0dc5f5-eba1-4f9c-af7f-aa6d50266822"
      },
      "execution_count": null,
      "outputs": [
        {
          "output_type": "execute_result",
          "data": {
            "text/plain": [
              "range(5, 13)"
            ]
          },
          "metadata": {},
          "execution_count": 163
        }
      ]
    },
    {
      "cell_type": "code",
      "source": [
        "listOfNum = list(rangeOfNum[0 : 8])\n",
        "\n",
        "listOfNum"
      ],
      "metadata": {
        "colab": {
          "base_uri": "https://localhost:8080/"
        },
        "id": "RmYlxpA47v_P",
        "outputId": "533ee23f-b988-4a7c-8217-7de374afa17d"
      },
      "execution_count": null,
      "outputs": [
        {
          "output_type": "execute_result",
          "data": {
            "text/plain": [
              "[5, 6, 7, 8, 9, 10, 11, 12]"
            ]
          },
          "metadata": {},
          "execution_count": 164
        }
      ]
    },
    {
      "cell_type": "code",
      "source": [
        "iterationNum = 1\n",
        "for elements in listOfNum:\n",
        "    print(f'Iteration {iterationNum}')\n",
        "    print(elements)\n",
        "    iterationNum = iterationNum + 1\n",
        "    print()"
      ],
      "metadata": {
        "colab": {
          "base_uri": "https://localhost:8080/"
        },
        "id": "O9Z0ldUpTfUT",
        "outputId": "50023ed9-6d24-423e-c8ab-5bdbb4fc70f3"
      },
      "execution_count": null,
      "outputs": [
        {
          "output_type": "stream",
          "name": "stdout",
          "text": [
            "Iteration 1\n",
            "5\n",
            "\n",
            "Iteration 2\n",
            "6\n",
            "\n",
            "Iteration 3\n",
            "7\n",
            "\n",
            "Iteration 4\n",
            "8\n",
            "\n",
            "Iteration 5\n",
            "9\n",
            "\n",
            "Iteration 6\n",
            "10\n",
            "\n",
            "Iteration 7\n",
            "11\n",
            "\n",
            "Iteration 8\n",
            "12\n",
            "\n"
          ]
        }
      ]
    },
    {
      "cell_type": "markdown",
      "source": [
        "### List of string as a sequence"
      ],
      "metadata": {
        "id": "WRxdeon_VQZH"
      }
    },
    {
      "cell_type": "code",
      "source": [
        "listOfString = ['Hattori','Kenechi','Yumeko']\n",
        "listOfString"
      ],
      "metadata": {
        "colab": {
          "base_uri": "https://localhost:8080/"
        },
        "id": "BEqkh8pQTqwo",
        "outputId": "054f4da7-c502-41b3-f0bc-e4c9630bb8d4"
      },
      "execution_count": null,
      "outputs": [
        {
          "output_type": "execute_result",
          "data": {
            "text/plain": [
              "['Hattori', 'Kenechi', 'Yumeko']"
            ]
          },
          "metadata": {},
          "execution_count": 166
        }
      ]
    },
    {
      "cell_type": "code",
      "source": [
        "iterationConstant = 1\n",
        "for elements in listOfString:\n",
        "    print(f'Iteration {iterationConstant}')\n",
        "    print(elements)\n",
        "    iterationConstant = iterationConstant + 1\n",
        "    print()"
      ],
      "metadata": {
        "colab": {
          "base_uri": "https://localhost:8080/"
        },
        "id": "G-_HkK2hUa0h",
        "outputId": "e52866ce-9ac1-45ba-fe03-2f2a228fd440"
      },
      "execution_count": null,
      "outputs": [
        {
          "output_type": "stream",
          "name": "stdout",
          "text": [
            "Iteration 1\n",
            "Hattori\n",
            "\n",
            "Iteration 2\n",
            "Kenechi\n",
            "\n",
            "Iteration 3\n",
            "Yumeko\n",
            "\n"
          ]
        }
      ]
    },
    {
      "cell_type": "markdown",
      "source": [
        "### String as a sequence"
      ],
      "metadata": {
        "id": "j9ya9u9PVVc7"
      }
    },
    {
      "cell_type": "code",
      "source": [
        "String1= \"Hello\"\n",
        "\n",
        "constant = 1\n",
        "for characters in String1:\n",
        "    print(f'Iteration {constant}')\n",
        "    print(characters)\n",
        "    constant = constant + 1\n",
        "    print()\n"
      ],
      "metadata": {
        "colab": {
          "base_uri": "https://localhost:8080/"
        },
        "id": "iUi-qKUiUzfF",
        "outputId": "dc1a19a3-eec6-4e21-b469-3d7668d62d7f"
      },
      "execution_count": null,
      "outputs": [
        {
          "output_type": "stream",
          "name": "stdout",
          "text": [
            "Iteration 1\n",
            "H\n",
            "\n",
            "Iteration 2\n",
            "e\n",
            "\n",
            "Iteration 3\n",
            "l\n",
            "\n",
            "Iteration 4\n",
            "l\n",
            "\n",
            "Iteration 5\n",
            "o\n",
            "\n"
          ]
        }
      ]
    },
    {
      "cell_type": "markdown",
      "source": [
        "### Dictionary as a sequence"
      ],
      "metadata": {
        "id": "oJKmWXamVYRp"
      }
    },
    {
      "cell_type": "code",
      "source": [
        "dictionary1 = {'a': 1, 'b': 2, 'c': 3}\n",
        "c = 1\n",
        "for keys,values in dictionary1.items():\n",
        "    print(f'Iteration {c}')\n",
        "    print('Key : {} \\t Value : {}'.format(keys,values))\n",
        "    c = c + 1\n",
        "    print()"
      ],
      "metadata": {
        "colab": {
          "base_uri": "https://localhost:8080/"
        },
        "id": "LDjPNuEbU95Q",
        "outputId": "3d61ce1b-15c9-4555-90b5-ceb10ab0ec7a"
      },
      "execution_count": null,
      "outputs": [
        {
          "output_type": "stream",
          "name": "stdout",
          "text": [
            "Iteration 1\n",
            "Key : a \t Value : 1\n",
            "\n",
            "Iteration 2\n",
            "Key : b \t Value : 2\n",
            "\n",
            "Iteration 3\n",
            "Key : c \t Value : 3\n",
            "\n"
          ]
        }
      ]
    },
    {
      "cell_type": "markdown",
      "source": [
        "### While Loop"
      ],
      "metadata": {
        "id": "VvHpYjR_W7Zz"
      }
    },
    {
      "cell_type": "code",
      "source": [
        "count = 0\n",
        "while count <= 10:\n",
        "    print(count)\n",
        "    count += 2\n"
      ],
      "metadata": {
        "colab": {
          "base_uri": "https://localhost:8080/"
        },
        "id": "bzt_41i8ViNC",
        "outputId": "083ced91-5e59-4527-a77a-da14e4eec924"
      },
      "execution_count": null,
      "outputs": [
        {
          "output_type": "stream",
          "name": "stdout",
          "text": [
            "0\n",
            "2\n",
            "4\n",
            "6\n",
            "8\n",
            "10\n"
          ]
        }
      ]
    },
    {
      "cell_type": "markdown",
      "source": [
        "### Nested Loop"
      ],
      "metadata": {
        "id": "vXoJtA9XXZog"
      }
    },
    {
      "cell_type": "code",
      "source": [
        "for i in range(3):    # 0,1,2\n",
        "    print()\n",
        "    print('I')\n",
        "    print(i)\n",
        "\n",
        "    for j in range(2): # 0,1\n",
        "        print('J')\n",
        "        print(j)\n"
      ],
      "metadata": {
        "colab": {
          "base_uri": "https://localhost:8080/"
        },
        "id": "qcI4WOUwXGxf",
        "outputId": "81549e11-7743-4c3b-c3ef-6e4d6a76378a"
      },
      "execution_count": null,
      "outputs": [
        {
          "output_type": "stream",
          "name": "stdout",
          "text": [
            "\n",
            "I\n",
            "0\n",
            "J\n",
            "0\n",
            "J\n",
            "1\n",
            "\n",
            "I\n",
            "1\n",
            "J\n",
            "0\n",
            "J\n",
            "1\n",
            "\n",
            "I\n",
            "2\n",
            "J\n",
            "0\n",
            "J\n",
            "1\n"
          ]
        }
      ]
    },
    {
      "cell_type": "markdown",
      "source": [
        "### Loop control statements ###"
      ],
      "metadata": {
        "id": "3eNCwo35YGPd"
      }
    },
    {
      "cell_type": "code",
      "source": [
        "for i in range(5):\n",
        "    if i == 2:\n",
        "        continue\n",
        "    if i == 4:\n",
        "        break\n",
        "    print(f'Value of variable i is : {i}')"
      ],
      "metadata": {
        "colab": {
          "base_uri": "https://localhost:8080/"
        },
        "id": "yG0K9g-YXjjH",
        "outputId": "b171e756-45dc-4744-82da-3cf0575c5ed8"
      },
      "execution_count": null,
      "outputs": [
        {
          "output_type": "stream",
          "name": "stdout",
          "text": [
            "Value of variable i is : 0\n",
            "Value of variable i is : 1\n",
            "Value of variable i is : 3\n"
          ]
        }
      ]
    },
    {
      "cell_type": "markdown",
      "source": [
        "#### Order of statements can be significant in many cases."
      ],
      "metadata": {
        "id": "0ic0PQY6Yirp"
      }
    },
    {
      "cell_type": "code",
      "source": [
        "for i in range(5):\n",
        "    print(f'Value of variable i is : {i}')\n",
        "    if i == 2:\n",
        "        continue\n",
        "    if i == 4:\n",
        "        break\n"
      ],
      "metadata": {
        "colab": {
          "base_uri": "https://localhost:8080/"
        },
        "id": "nPW0VLgKYayt",
        "outputId": "8047b2a1-ba84-4091-ba11-87bd2495bb63"
      },
      "execution_count": null,
      "outputs": [
        {
          "output_type": "stream",
          "name": "stdout",
          "text": [
            "Value of variable i is : 0\n",
            "Value of variable i is : 1\n",
            "Value of variable i is : 2\n",
            "Value of variable i is : 3\n",
            "Value of variable i is : 4\n"
          ]
        }
      ]
    },
    {
      "cell_type": "markdown",
      "source": [
        "### Simulating do-while"
      ],
      "metadata": {
        "id": "l4turzkCZN7I"
      }
    },
    {
      "cell_type": "code",
      "source": [
        "count = 0\n",
        "\n",
        "while True:\n",
        "    print(count)\n",
        "    count += 1\n",
        "    if count >= 5:\n",
        "        break\n"
      ],
      "metadata": {
        "colab": {
          "base_uri": "https://localhost:8080/"
        },
        "id": "19CjIvyyYU6U",
        "outputId": "b2d02549-b6ed-4026-c58e-47a81a2a8374"
      },
      "execution_count": null,
      "outputs": [
        {
          "output_type": "stream",
          "name": "stdout",
          "text": [
            "0\n",
            "1\n",
            "2\n",
            "3\n",
            "4\n"
          ]
        }
      ]
    },
    {
      "cell_type": "markdown",
      "source": [
        "### Function"
      ],
      "metadata": {
        "id": "KqBkaJt1pozx"
      }
    },
    {
      "cell_type": "code",
      "source": [
        "def circumferenceOfCircle(r):\n",
        "    circumference = 2 * (22/7) * r\n",
        "    print ('The circumference of circle is {}.'.format(circumference))\n"
      ],
      "metadata": {
        "id": "ogXBXufupqd6"
      },
      "execution_count": null,
      "outputs": []
    },
    {
      "cell_type": "code",
      "source": [
        "circumferenceOfCircle(4)"
      ],
      "metadata": {
        "colab": {
          "base_uri": "https://localhost:8080/"
        },
        "id": "xK85nl_qqBxT",
        "outputId": "ae414d75-d20a-40b2-d3cb-c5b42ab0da0e"
      },
      "execution_count": null,
      "outputs": [
        {
          "output_type": "stream",
          "name": "stdout",
          "text": [
            "The circumference of circle is 25.142857142857142.\n"
          ]
        }
      ]
    },
    {
      "cell_type": "code",
      "source": [
        "circumferenceOfCircle(5)"
      ],
      "metadata": {
        "colab": {
          "base_uri": "https://localhost:8080/"
        },
        "id": "ZDwMRQrNqDih",
        "outputId": "52e9e680-0d28-4366-fed2-f1ffeb986bc1"
      },
      "execution_count": null,
      "outputs": [
        {
          "output_type": "stream",
          "name": "stdout",
          "text": [
            "The circumference of circle is 31.428571428571427.\n"
          ]
        }
      ]
    },
    {
      "cell_type": "code",
      "source": [
        "circumferenceOfCircle(6)"
      ],
      "metadata": {
        "colab": {
          "base_uri": "https://localhost:8080/"
        },
        "id": "lTTDMthQqEnI",
        "outputId": "89daf8fc-a987-4ba2-adee-d68d5f84bd4f"
      },
      "execution_count": null,
      "outputs": [
        {
          "output_type": "stream",
          "name": "stdout",
          "text": [
            "The circumference of circle is 37.714285714285715.\n"
          ]
        }
      ]
    }
  ]
}