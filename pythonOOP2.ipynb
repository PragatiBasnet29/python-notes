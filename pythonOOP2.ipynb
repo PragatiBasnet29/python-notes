{
  "nbformat": 4,
  "nbformat_minor": 0,
  "metadata": {
    "colab": {
      "provenance": [],
      "authorship_tag": "ABX9TyM6xGt/GTpsap0D0iDS4enp",
      "include_colab_link": true
    },
    "kernelspec": {
      "name": "python3",
      "display_name": "Python 3"
    },
    "language_info": {
      "name": "python"
    }
  },
  "cells": [
    {
      "cell_type": "markdown",
      "metadata": {
        "id": "view-in-github",
        "colab_type": "text"
      },
      "source": [
        "<a href=\"https://colab.research.google.com/github/Hatsuhinode/Python/blob/main/pythonOOP2.ipynb\" target=\"_parent\"><img src=\"https://colab.research.google.com/assets/colab-badge.svg\" alt=\"Open In Colab\"/></a>"
      ]
    },
    {
      "cell_type": "markdown",
      "source": [
        "#Types of Inheritance\n"
      ],
      "metadata": {
        "id": "84GJlGE8ncAc"
      }
    },
    {
      "cell_type": "markdown",
      "source": [
        "1. Single Inheritance\n",
        "2. Multiple Inheritance\n",
        "3. Multilevel Inheritance\n",
        "4. Hierarchical Inheritance\n",
        "5. Hybrid Inheritance ( Inheritance consists of multiple types of inheritance)\n"
      ],
      "metadata": {
        "id": "eKpTV4Lfng_8"
      }
    },
    {
      "cell_type": "markdown",
      "source": [
        "#### Single Inheritance\n"
      ],
      "metadata": {
        "id": "rT0-kSnVnqfe"
      }
    },
    {
      "cell_type": "code",
      "source": [
        "class Automobile :\n",
        "    def AutomobileDisplay(self) :\n",
        "        print('AUTOMOBILE DETAILS')"
      ],
      "metadata": {
        "id": "jpctf6Mrns55"
      },
      "execution_count": null,
      "outputs": []
    },
    {
      "cell_type": "code",
      "source": [
        "class fourWheeler(Automobile) :\n",
        "    def fourWheelerDisplay(self) :\n",
        "        print('FOUR WHEELER DETAILS')"
      ],
      "metadata": {
        "id": "j_dnJ-eonvmh"
      },
      "execution_count": null,
      "outputs": []
    },
    {
      "cell_type": "code",
      "source": [
        "jaguar = fourWheeler()"
      ],
      "metadata": {
        "id": "tzmioW_ynwrA"
      },
      "execution_count": null,
      "outputs": []
    },
    {
      "cell_type": "code",
      "source": [
        "print('\\nSINGLE INTERFERENCE\\n')\n",
        "jaguar.AutomobileDisplay()"
      ],
      "metadata": {
        "colab": {
          "base_uri": "https://localhost:8080/"
        },
        "id": "OUPvHQaQnyJA",
        "outputId": "731ac9c3-99f2-401b-d078-8cf415f4b692"
      },
      "execution_count": null,
      "outputs": [
        {
          "output_type": "stream",
          "name": "stdout",
          "text": [
            "\n",
            "SINGLE INTERFERENCE\n",
            "\n",
            "AUTOMOBILE DETAILS\n"
          ]
        }
      ]
    },
    {
      "cell_type": "code",
      "source": [
        "jaguar.fourWheelerDisplay()"
      ],
      "metadata": {
        "id": "oSxdY92rn4nF"
      },
      "execution_count": null,
      "outputs": []
    },
    {
      "cell_type": "markdown",
      "source": [
        "##### Single inheritance allows derived class to inherit properties from a single parent class.\n"
      ],
      "metadata": {
        "id": "PSv2drVyn8Y_"
      }
    },
    {
      "cell_type": "markdown",
      "source": [
        "###### In the above code 'fourWheeler' is derived class which inherits the module 'automobileDisplay' from parent class 'Automobile'.\n"
      ],
      "metadata": {
        "id": "xlNxssc7oACF"
      }
    },
    {
      "cell_type": "markdown",
      "source": [
        "#### Multiple Inheritance\n"
      ],
      "metadata": {
        "id": "Av2MWTHIoF3N"
      }
    },
    {
      "cell_type": "code",
      "source": [
        "class basicDetail:\n",
        "    def __init__(self, brandName, color) :\n",
        "        self.brandName = brandName\n",
        "        self.color = color\n",
        "\n",
        "    def basicDetailDisplay(self) :\n",
        "        print('Name :',self.brandName)\n",
        "        print('Color :',self.color)"
      ],
      "metadata": {
        "id": "T8nPrxw_oIyc"
      },
      "execution_count": null,
      "outputs": []
    },
    {
      "cell_type": "code",
      "source": [
        "class Car(basicDetail, fourWheeler) :\n",
        "\n",
        "    def __init__(self, brandName, color, height, weight, width, cargoCapacity, wheelbase) :\n",
        "        #super().__init__(brandName, color)          # Calling constructor of basicDetail\n",
        "        basicDetail.__init__(self, brandName, color)\n",
        "        self.height = height                 # Height(inches)\n",
        "        self.weight = weight                 # Weight(pounds)\n",
        "        self.width = width                   # Width(inches)\n",
        "        self.cargoCapacity = cargoCapacity   # Cargo Capacity(liters)\n",
        "        self.wheelbase = wheelbase           # Width(inches)\n",
        "\n",
        "    def CarDisplay(self):\n",
        "        print('Height :',self.height)\n",
        "        print('Weight :',self.weight)\n",
        "        print('Width :',self.width)\n",
        "        print('Cargo Capacity :',self.cargoCapacity)\n",
        "        print('Wheelbase :',self.wheelbase)"
      ],
      "metadata": {
        "id": "RPGNmTa0oKip"
      },
      "execution_count": null,
      "outputs": []
    },
    {
      "cell_type": "code",
      "source": [
        "jaguarXFBasicDetail = basicDetail('Jaguar', 'Black')"
      ],
      "metadata": {
        "id": "1b9U3DAHoOrf"
      },
      "execution_count": null,
      "outputs": []
    },
    {
      "cell_type": "code",
      "source": [
        "jaguarXF = Car('Jaguar', 'Black', 58, 4000, 79, 538, 117)"
      ],
      "metadata": {
        "id": "rB7T1Xh-oRhg"
      },
      "execution_count": null,
      "outputs": []
    },
    {
      "cell_type": "code",
      "source": [
        "print('\\nMULTIPLE INHERITANCE\\n')\n",
        "jaguarXF.fourWheelerDisplay()"
      ],
      "metadata": {
        "colab": {
          "base_uri": "https://localhost:8080/"
        },
        "id": "HKrbgrH1oVJS",
        "outputId": "13220885-6fc5-4c69-8b1d-317945642be6"
      },
      "execution_count": null,
      "outputs": [
        {
          "output_type": "stream",
          "name": "stdout",
          "text": [
            "\n",
            "MULTIPLE INHERITANCE\n",
            "\n",
            "FOUR WHEELER DETAILS\n"
          ]
        }
      ]
    },
    {
      "cell_type": "code",
      "source": [
        "jaguarXF.basicDetailDisplay()"
      ],
      "metadata": {
        "colab": {
          "base_uri": "https://localhost:8080/"
        },
        "id": "w1AUNp22oXCG",
        "outputId": "dbaa126b-6996-464a-cc09-66ee94a0e612"
      },
      "execution_count": null,
      "outputs": [
        {
          "output_type": "stream",
          "name": "stdout",
          "text": [
            "Name : Jaguar\n",
            "Color : Black\n"
          ]
        }
      ]
    },
    {
      "cell_type": "code",
      "source": [
        "jaguarXF.CarDisplay()"
      ],
      "metadata": {
        "colab": {
          "base_uri": "https://localhost:8080/"
        },
        "id": "z9t9Hlt_oXZk",
        "outputId": "9291a1bb-209a-4800-c5ac-f1ce14509466"
      },
      "execution_count": null,
      "outputs": [
        {
          "output_type": "stream",
          "name": "stdout",
          "text": [
            "Height : 58\n",
            "Weight : 4000\n",
            "Width : 79\n",
            "Cargo Capacity : 538\n",
            "Wheelbase : 117\n"
          ]
        }
      ]
    },
    {
      "cell_type": "markdown",
      "source": [
        "##### In multiple inheritance a class can be derived from more than one base class.\n"
      ],
      "metadata": {
        "id": "S0KADZVeoZgM"
      }
    },
    {
      "cell_type": "markdown",
      "source": [
        "##### In the above code 'Car' is derived class which inherits properties from base classes 'fourWheeler' and 'basicDetail'.\n"
      ],
      "metadata": {
        "id": "iJSHJuywodb_"
      }
    },
    {
      "cell_type": "markdown",
      "source": [
        "#### Multilevel Inheritance\n"
      ],
      "metadata": {
        "id": "sfRgKuAZoglS"
      }
    },
    {
      "cell_type": "code",
      "source": [
        "class Vehicle:\n",
        "    def __init__(self, types, price):\n",
        "        self.types = types\n",
        "        self.price = price"
      ],
      "metadata": {
        "id": "75CNT8CSoc9g"
      },
      "execution_count": null,
      "outputs": []
    },
    {
      "cell_type": "code",
      "source": [
        "class vehicleDetail(Vehicle):\n",
        "    def __init__(self, color,types,price):\n",
        "        self.color = color\n",
        "\n",
        "        Vehicle.__init__(self, types, price)"
      ],
      "metadata": {
        "id": "VD0MDlCposRb"
      },
      "execution_count": null,
      "outputs": []
    },
    {
      "cell_type": "code",
      "source": [
        "class Customer(vehicleDetail):\n",
        "    def __init__(self, name, address, color, types, price):\n",
        "        self.name = name\n",
        "        self.address = address\n",
        "\n",
        "        vehicleDetail.__init__(self, color,types,price)\n",
        "\n",
        "    def CustomerDisplay(self):\n",
        "         print('\\nPURCHASE DETAILS\\n')\n",
        "         print('Name :',self.name)\n",
        "         print('Address :',self.address)\n",
        "         print('Type :',self.types)\n",
        "         print('Color :',self.color)\n",
        "         print('Price :',self.price)"
      ],
      "metadata": {
        "id": "gEmSFrAQott1"
      },
      "execution_count": null,
      "outputs": []
    },
    {
      "cell_type": "code",
      "source": [
        "print('\\nMULTILEVEL INHERITANCE\\n')\n",
        "customer1 = Customer('Ginsama', 'Edo', 'Red', 'Car', 5000000)\n",
        "customer1.CustomerDisplay()"
      ],
      "metadata": {
        "colab": {
          "base_uri": "https://localhost:8080/"
        },
        "id": "fSvAyMG5oyQ_",
        "outputId": "f36e9ce3-cfe4-4310-87e5-7d5b3ab10faa"
      },
      "execution_count": null,
      "outputs": [
        {
          "output_type": "stream",
          "name": "stdout",
          "text": [
            "\n",
            "MULTILEVEL INHERITANCE\n",
            "\n",
            "\n",
            "PURCHASE DETAILS\n",
            "\n",
            "Name : Ginsama\n",
            "Address : Edo\n",
            "Type : Car\n",
            "Color : Red\n",
            "Price : 5000000\n"
          ]
        }
      ]
    },
    {
      "cell_type": "markdown",
      "source": [
        "##### In multilevel inheritance, features of base class and derived class are are further inherited into new derived class.\n"
      ],
      "metadata": {
        "id": "5CK_f848o0hy"
      }
    },
    {
      "cell_type": "markdown",
      "source": [
        "##### In the above code 'Customer' is derived class, 'vehicleDetail' is intermediatory class and 'Vehicle' is base class.\n"
      ],
      "metadata": {
        "id": "lhyukLqGo56A"
      }
    },
    {
      "cell_type": "markdown",
      "source": [
        "#### Hierarchical Inheritance\n"
      ],
      "metadata": {
        "id": "4pbWerlWo8AJ"
      }
    },
    {
      "cell_type": "code",
      "source": [
        "class Transportation() :\n",
        "    def TransportationDisplay(self):\n",
        "        print('TRANSPORTATION DETAILS')"
      ],
      "metadata": {
        "id": "m6oHbf6TpC5J"
      },
      "execution_count": null,
      "outputs": []
    },
    {
      "cell_type": "code",
      "source": [
        "class Truck(Transportation):\n",
        "    def __init__(self,name):\n",
        "        self.name = name\n",
        "\n",
        "    def TruckDisplay(self):\n",
        "        print(f'{self.name} is a truck.')"
      ],
      "metadata": {
        "id": "K-w7yPGqpFtM"
      },
      "execution_count": null,
      "outputs": []
    },
    {
      "cell_type": "code",
      "source": [
        "class Bicycle(Transportation):\n",
        "    def __init__(self,name):\n",
        "        self.name = name\n",
        "\n",
        "    def BicycleDisplay(self):\n",
        "        print(f'{self.name} is a bicycle.')"
      ],
      "metadata": {
        "id": "wNbr6zoupFpy"
      },
      "execution_count": null,
      "outputs": []
    },
    {
      "cell_type": "code",
      "source": [
        "print('\\nHIERARCHICAL INHERITANCE\\n')\n",
        "\n",
        "toyota1 = Truck('Toyota Tacoma')\n",
        "toyota1.TransportationDisplay()\n",
        "toyota1.TruckDisplay()"
      ],
      "metadata": {
        "colab": {
          "base_uri": "https://localhost:8080/"
        },
        "id": "jFHZ4VB0pJdS",
        "outputId": "e79e0351-d18f-4077-e459-5ac4dffb9ffc"
      },
      "execution_count": null,
      "outputs": [
        {
          "output_type": "stream",
          "name": "stdout",
          "text": [
            "\n",
            "HIERARCHICAL INHERITANCE\n",
            "\n",
            "TRANSPORTATION DETAILS\n",
            "Toyota Tacoma is a truck.\n"
          ]
        }
      ]
    },
    {
      "cell_type": "code",
      "execution_count": null,
      "metadata": {
        "colab": {
          "base_uri": "https://localhost:8080/"
        },
        "id": "Cmg_Q-v_nMAz",
        "outputId": "1fe10047-7207-48b5-a5d1-9a2efeac8920"
      },
      "outputs": [
        {
          "output_type": "stream",
          "name": "stdout",
          "text": [
            "TRANSPORTATION DETAILS\n",
            "Redline MX is a bicycle.\n"
          ]
        }
      ],
      "source": [
        "bicycle1 = Bicycle('Redline MX')\n",
        "bicycle1.TransportationDisplay()\n",
        "bicycle1.BicycleDisplay()\n",
        "\n"
      ]
    },
    {
      "cell_type": "markdown",
      "source": [
        "##### In hierarchical inheritance, more than one derived classes are created from a single base class.\n"
      ],
      "metadata": {
        "id": "OXOMarJypPAd"
      }
    },
    {
      "cell_type": "markdown",
      "source": [
        "##### In the above code 'Transportation' is a base class. 'Truck' and 'Bicycle' are derived classes created from class 'Transportation'."
      ],
      "metadata": {
        "id": "s-UczZYHpO93"
      }
    }
  ]
}