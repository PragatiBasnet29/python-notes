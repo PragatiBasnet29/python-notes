{
  "nbformat": 4,
  "nbformat_minor": 0,
  "metadata": {
    "colab": {
      "provenance": [],
      "authorship_tag": "ABX9TyN9uh9EcNqYrK2kPeGB1nF+",
      "include_colab_link": true
    },
    "kernelspec": {
      "name": "python3",
      "display_name": "Python 3"
    },
    "language_info": {
      "name": "python"
    }
  },
  "cells": [
    {
      "cell_type": "markdown",
      "metadata": {
        "id": "view-in-github",
        "colab_type": "text"
      },
      "source": [
        "<a href=\"https://colab.research.google.com/github/Hatsuhinode/Python/blob/main/pythonFunctions1.ipynb\" target=\"_parent\"><img src=\"https://colab.research.google.com/assets/colab-badge.svg\" alt=\"Open In Colab\"/></a>"
      ]
    },
    {
      "cell_type": "markdown",
      "source": [
        "# Global and local variables\n"
      ],
      "metadata": {
        "id": "o_8wdc7cjNtv"
      }
    },
    {
      "cell_type": "markdown",
      "source": [
        "##### Global variables are not defined inside a function and they have a global scope.\n"
      ],
      "metadata": {
        "id": "FLMhobapjPxf"
      }
    },
    {
      "cell_type": "markdown",
      "source": [
        "\n",
        "##### Local variables are defined inside a function and their scope is limited to that function only.\n",
        "\n"
      ],
      "metadata": {
        "id": "k2Ep_CMdhcXD"
      }
    },
    {
      "cell_type": "markdown",
      "source": [
        "#### Use of local variables\n"
      ],
      "metadata": {
        "id": "t3sjXjX3jJbh"
      }
    },
    {
      "cell_type": "code",
      "source": [
        "def addition():\n",
        "    a = 10\n",
        "    b = 20\n",
        "    print ('The sum of {} and {} is {}.'.format(a,b,a + b))\n"
      ],
      "metadata": {
        "id": "oHr_Rea-jF3N"
      },
      "execution_count": null,
      "outputs": []
    },
    {
      "cell_type": "code",
      "source": [
        "addition()"
      ],
      "metadata": {
        "id": "_auD-R6DjAwY",
        "colab": {
          "base_uri": "https://localhost:8080/"
        },
        "outputId": "2b29a29f-f572-4d59-8677-de97d69f93a4"
      },
      "execution_count": null,
      "outputs": [
        {
          "output_type": "stream",
          "name": "stdout",
          "text": [
            "The sum of 10 and 20 is 30.\n"
          ]
        }
      ]
    },
    {
      "cell_type": "markdown",
      "source": [
        "#### Use of global variables\n"
      ],
      "metadata": {
        "id": "_7d53Y-qjBhF"
      }
    },
    {
      "cell_type": "code",
      "source": [
        "def display():\n",
        "    print('The numbers are {} and {}.'.format(a,b))"
      ],
      "metadata": {
        "id": "RjrVKsLui_bN"
      },
      "execution_count": null,
      "outputs": []
    },
    {
      "cell_type": "code",
      "source": [
        "a = 10\n",
        "b = 20\n",
        "sum = a + b"
      ],
      "metadata": {
        "id": "-x-eLes1i9u4"
      },
      "execution_count": null,
      "outputs": []
    },
    {
      "cell_type": "code",
      "source": [
        "display()\n",
        "print('The sum of {} and {} is {}.'.format(a,b,sum))"
      ],
      "metadata": {
        "id": "OjRXmdjYi7Fn",
        "colab": {
          "base_uri": "https://localhost:8080/"
        },
        "outputId": "2ff1e0cb-6c98-4a2e-b4fb-72ff4fc72ad8"
      },
      "execution_count": null,
      "outputs": [
        {
          "output_type": "stream",
          "name": "stdout",
          "text": [
            "The numbers are 10 and 20.\n",
            "The sum of 10 and 20 is 30.\n"
          ]
        }
      ]
    },
    {
      "cell_type": "markdown",
      "source": [
        "#### Variables with same name inside and outside the function\n"
      ],
      "metadata": {
        "id": "9SfE1V6kiopw"
      }
    },
    {
      "cell_type": "code",
      "source": [
        "def subtraction():\n",
        "    a = 10\n",
        "    b = 20\n",
        "    print('The difference of {} and {} is {}.'.format(a,b,a - b))"
      ],
      "metadata": {
        "id": "6Q4mAPeAi0VG"
      },
      "execution_count": null,
      "outputs": []
    },
    {
      "cell_type": "code",
      "source": [
        "a = 1\n",
        "b = 2\n",
        "subtraction()"
      ],
      "metadata": {
        "id": "KjPxcrlMiwhG",
        "colab": {
          "base_uri": "https://localhost:8080/"
        },
        "outputId": "7bf249dc-8e3c-41c9-9e5a-afa4625b5360"
      },
      "execution_count": null,
      "outputs": [
        {
          "output_type": "stream",
          "name": "stdout",
          "text": [
            "The difference of 10 and 20 is -10.\n"
          ]
        }
      ]
    },
    {
      "cell_type": "code",
      "source": [
        "def subtraction1():\n",
        "    a = a + 50\n",
        "    b =b + 60\n",
        "    print('The difference of {} and {} is {}.'.format(a,b,a - b))\n",
        "\n",
        "\n",
        "a = 5\n",
        "b = 6\n",
        "subtraction1()"
      ],
      "metadata": {
        "id": "b4aVWR9BJi7b",
        "colab": {
          "base_uri": "https://localhost:8080/",
          "height": 339
        },
        "outputId": "2a774d46-b6f3-4f79-9bd6-65bf0d6025ba"
      },
      "execution_count": null,
      "outputs": [
        {
          "output_type": "error",
          "ename": "UnboundLocalError",
          "evalue": "ignored",
          "traceback": [
            "\u001b[0;31m---------------------------------------------------------------------------\u001b[0m",
            "\u001b[0;31mUnboundLocalError\u001b[0m                         Traceback (most recent call last)",
            "\u001b[0;32m<ipython-input-8-1cb5ce6f017f>\u001b[0m in \u001b[0;36m<cell line: 9>\u001b[0;34m()\u001b[0m\n\u001b[1;32m      7\u001b[0m \u001b[0ma\u001b[0m \u001b[0;34m=\u001b[0m \u001b[0;36m5\u001b[0m\u001b[0;34m\u001b[0m\u001b[0;34m\u001b[0m\u001b[0m\n\u001b[1;32m      8\u001b[0m \u001b[0mb\u001b[0m \u001b[0;34m=\u001b[0m \u001b[0;36m6\u001b[0m\u001b[0;34m\u001b[0m\u001b[0;34m\u001b[0m\u001b[0m\n\u001b[0;32m----> 9\u001b[0;31m \u001b[0msubtraction1\u001b[0m\u001b[0;34m(\u001b[0m\u001b[0;34m)\u001b[0m\u001b[0;34m\u001b[0m\u001b[0;34m\u001b[0m\u001b[0m\n\u001b[0m",
            "\u001b[0;32m<ipython-input-8-1cb5ce6f017f>\u001b[0m in \u001b[0;36msubtraction1\u001b[0;34m()\u001b[0m\n\u001b[1;32m      1\u001b[0m \u001b[0;32mdef\u001b[0m \u001b[0msubtraction1\u001b[0m\u001b[0;34m(\u001b[0m\u001b[0;34m)\u001b[0m\u001b[0;34m:\u001b[0m\u001b[0;34m\u001b[0m\u001b[0;34m\u001b[0m\u001b[0m\n\u001b[0;32m----> 2\u001b[0;31m     \u001b[0ma\u001b[0m \u001b[0;34m=\u001b[0m \u001b[0ma\u001b[0m \u001b[0;34m+\u001b[0m \u001b[0;36m50\u001b[0m\u001b[0;34m\u001b[0m\u001b[0;34m\u001b[0m\u001b[0m\n\u001b[0m\u001b[1;32m      3\u001b[0m     \u001b[0mb\u001b[0m \u001b[0;34m=\u001b[0m\u001b[0mb\u001b[0m \u001b[0;34m+\u001b[0m \u001b[0;36m60\u001b[0m\u001b[0;34m\u001b[0m\u001b[0;34m\u001b[0m\u001b[0m\n\u001b[1;32m      4\u001b[0m     \u001b[0mprint\u001b[0m\u001b[0;34m(\u001b[0m\u001b[0;34m'The difference of {} and {} is {}.'\u001b[0m\u001b[0;34m.\u001b[0m\u001b[0mformat\u001b[0m\u001b[0;34m(\u001b[0m\u001b[0ma\u001b[0m\u001b[0;34m,\u001b[0m\u001b[0mb\u001b[0m\u001b[0;34m,\u001b[0m\u001b[0ma\u001b[0m \u001b[0;34m-\u001b[0m \u001b[0mb\u001b[0m\u001b[0;34m)\u001b[0m\u001b[0;34m)\u001b[0m\u001b[0;34m\u001b[0m\u001b[0;34m\u001b[0m\u001b[0m\n\u001b[1;32m      5\u001b[0m \u001b[0;34m\u001b[0m\u001b[0m\n",
            "\u001b[0;31mUnboundLocalError\u001b[0m: local variable 'a' referenced before assignment"
          ]
        }
      ]
    },
    {
      "cell_type": "code",
      "source": [
        "def subtraction2():\n",
        "    global a\n",
        "    global b\n",
        "    a = a + 50\n",
        "    b =b + 60\n",
        "    print('The difference of {} and {} is {}.'.format(a,b,a - b))"
      ],
      "metadata": {
        "id": "KUWMz3ONisOo"
      },
      "execution_count": null,
      "outputs": []
    },
    {
      "cell_type": "markdown",
      "source": [
        "**global** keyword inside a function is used to declare that a variable refers to the global scope variable of the same name."
      ],
      "metadata": {
        "id": "c63dzIqH6H-2"
      }
    },
    {
      "cell_type": "code",
      "source": [
        "a = 5\n",
        "b = 6\n",
        "subtraction2()"
      ],
      "metadata": {
        "id": "9CY2ftZ3ireE",
        "colab": {
          "base_uri": "https://localhost:8080/"
        },
        "outputId": "ff637644-9ec4-4366-d6e5-4d3d114c46fe"
      },
      "execution_count": null,
      "outputs": [
        {
          "output_type": "stream",
          "name": "stdout",
          "text": [
            "The difference of 55 and 66 is -11.\n"
          ]
        }
      ]
    },
    {
      "cell_type": "markdown",
      "source": [
        "#### Function as object\n"
      ],
      "metadata": {
        "id": "ANssDHE9imp4"
      }
    },
    {
      "cell_type": "code",
      "source": [
        "def message(sentence):\n",
        "    return(sentence.upper())"
      ],
      "metadata": {
        "id": "6ZZOXdR6igMX"
      },
      "execution_count": null,
      "outputs": []
    },
    {
      "cell_type": "code",
      "source": [
        "msg = message\n",
        "print(msg)\n",
        "print(msg('This is a program where function is used as an object.'))"
      ],
      "metadata": {
        "id": "c8PG2XgkiemT"
      },
      "execution_count": null,
      "outputs": []
    },
    {
      "cell_type": "markdown",
      "source": [
        "#### Function as argument\n"
      ],
      "metadata": {
        "id": "eTtb5WNXiZaS"
      }
    },
    {
      "cell_type": "code",
      "source": [
        "def letter(sentence):\n",
        "    return (sentence.upper())"
      ],
      "metadata": {
        "id": "mVo2-EoEiWha"
      },
      "execution_count": null,
      "outputs": []
    },
    {
      "cell_type": "code",
      "source": [
        "def displayLetter(letterParameter):\n",
        "    print(letter('This is a program where function \"letter\" is passed as an argument to function \"displayLetter\".'))"
      ],
      "metadata": {
        "id": "zj3DLKy2iQc2"
      },
      "execution_count": null,
      "outputs": []
    },
    {
      "cell_type": "code",
      "source": [
        "displayLetter(letter)"
      ],
      "metadata": {
        "id": "Cv_QzQcGiQaB",
        "colab": {
          "base_uri": "https://localhost:8080/"
        },
        "outputId": "2f58c4bf-4709-4008-a40c-34e8f0bfd642"
      },
      "execution_count": null,
      "outputs": [
        {
          "output_type": "stream",
          "name": "stdout",
          "text": [
            "THIS IS A PROGRAM WHERE FUNCTION \"LETTER\" IS PASSED AS AN ARGUMENT TO FUNCTION \"DISPLAYLETTER\".\n"
          ]
        }
      ]
    },
    {
      "cell_type": "markdown",
      "source": [
        "#### Function returning another function\n"
      ],
      "metadata": {
        "id": "f1qAN9vliM98"
      }
    },
    {
      "cell_type": "code",
      "source": [
        "def outerFunction():\n",
        "    print('This is outer function.')\n",
        "    def innerFunction():\n",
        "        print('This is inner function')\n",
        "        return 'This return statement is included to avoid \"None\" from being displayed.'\n",
        "    return innerFunction()"
      ],
      "metadata": {
        "id": "KTJAIgnciLf9"
      },
      "execution_count": null,
      "outputs": []
    },
    {
      "cell_type": "code",
      "source": [
        "display1 = outerFunction()\n",
        "print('The \"outerFunction()\" has returned innerFunction() and this innerFunction is stored in \"display1\" variable.')\n",
        "print(display1)\n"
      ],
      "metadata": {
        "id": "YfouZqyEhtYu",
        "colab": {
          "base_uri": "https://localhost:8080/"
        },
        "outputId": "7d7169f2-b0cc-4ce1-d977-9c565df1c06e"
      },
      "execution_count": null,
      "outputs": [
        {
          "output_type": "stream",
          "name": "stdout",
          "text": [
            "This is outer function.\n",
            "This is inner function\n",
            "The \"outerFunction()\" has returned innerFunction() and this innerFunction is stored in \"display1\" variable.\n",
            "This return statement is included to avoid \"None\" from being displayed.\n"
          ]
        }
      ]
    },
    {
      "cell_type": "markdown",
      "source": [
        "##### When a function is called in the context where its returned value is printed but the function doesn't explicitly return anything, Python shows 'None' as default return value. The type of 'None' is 'NoneType'."
      ],
      "metadata": {
        "id": "Pop2vjgHh5XF"
      }
    },
    {
      "cell_type": "code",
      "source": [
        "def outerFunction():\n",
        "    print('This is outer function.')\n",
        "    def innerFunction():\n",
        "        print('This is inner function')\n",
        "        return 'This return statement is included to avoid \"None\" from being displayed.'\n",
        "    return innerFunction"
      ],
      "metadata": {
        "id": "OziyB771hqUA"
      },
      "execution_count": null,
      "outputs": []
    },
    {
      "cell_type": "code",
      "source": [
        "display1 = outerFunction()\n",
        "print('The \"outerFunction()\" has returned innerFunction() and this innerFunction is stored in \"display1\" variable.')\n",
        "print(display1())"
      ],
      "metadata": {
        "id": "_RnSYznKLdEY",
        "colab": {
          "base_uri": "https://localhost:8080/"
        },
        "outputId": "3e977022-a5bd-4f4c-8c09-adc6012dd48e"
      },
      "execution_count": null,
      "outputs": [
        {
          "output_type": "stream",
          "name": "stdout",
          "text": [
            "This is outer function.\n",
            "The \"outerFunction()\" has returned innerFunction() and this innerFunction is stored in \"display1\" variable.\n",
            "This is inner function\n",
            "This return statement is included to avoid \"None\" from being displayed.\n"
          ]
        }
      ]
    }
  ]
}